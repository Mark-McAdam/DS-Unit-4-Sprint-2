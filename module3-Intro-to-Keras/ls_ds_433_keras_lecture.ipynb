<a href="https://lambdaschoolstudents.slack.com/?redir=%2Ffiles-pri%2FT4JUEB3ME-F011WUVGV6E%2Fdownload%2Fls_ds_433_keras_lecture.ipynb">Found</a>.

