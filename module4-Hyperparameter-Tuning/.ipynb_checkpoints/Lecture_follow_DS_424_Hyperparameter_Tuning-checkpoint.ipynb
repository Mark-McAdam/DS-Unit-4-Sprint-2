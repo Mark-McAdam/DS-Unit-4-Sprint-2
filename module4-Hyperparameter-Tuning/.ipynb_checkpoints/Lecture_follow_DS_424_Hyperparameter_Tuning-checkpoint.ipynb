{
  "nbformat": 4,
  "nbformat_minor": 0,
  "metadata": {
    "kernelspec": {
      "name": "python3",
      "display_name": "Python 3"
    },
    "colab": {
      "name": "Lecture_follow_DS-424_Hyperparameter_Tuning.ipynb",
      "provenance": [],
      "collapsed_sections": []
    },
    "accelerator": "GPU"
  },
  "cells": [
    {
      "cell_type": "markdown",
      "metadata": {
        "colab_type": "text",
        "id": "41TS0Sa0rDNx"
      },
      "source": [
        "Lambda School Data Science\n",
        "\n",
        "*Unit 4, Sprint 2, Module 4*\n",
        "\n",
        "---"
      ]
    },
    {
      "cell_type": "markdown",
      "metadata": {
        "colab_type": "text",
        "id": "TDyPDRajuu-Z"
      },
      "source": [
        "# Neural Networks & GPUs (Prepare)\n",
        "*aka Hyperparameter Tuning*\n",
        "\n",
        "*aka Big Servers for Big Problems*"
      ]
    },
    {
      "cell_type": "markdown",
      "metadata": {
        "colab_type": "text",
        "id": "gzLEZPnLuu-a"
      },
      "source": [
        "## Learning Objectives\n",
        "* <a href=\"#p1\">Part 1</a>: Describe the major hyperparemeters to tune\n",
        "* <a href=\"#p2\">Part 2</a>: Implement an experiment tracking framework\n",
        "* <a href=\"#p3\">Part 3</a>: Search the hyperparameter space using RandomSearch (Optional)"
      ]
    },
    {
      "cell_type": "code",
      "metadata": {
        "id": "JnyZMfK4uu-a",
        "colab_type": "code",
        "colab": {}
      },
      "source": [
        "wandb_group = \"ds8\"\n",
        "wandb_project = \"ds12_inclass\""
      ],
      "execution_count": 0,
      "outputs": []
    },
    {
      "cell_type": "markdown",
      "metadata": {
        "id": "SnY_b9-7uu-e",
        "colab_type": "text"
      },
      "source": [
        "# Hyperparameter Options (Learn)\n",
        "<a id=\"p1\"></a>"
      ]
    },
    {
      "cell_type": "markdown",
      "metadata": {
        "id": "pC8cbIeOuu-f",
        "colab_type": "text"
      },
      "source": [
        "## Overview\n",
        "\n",
        "Hyperparameter tuning is much more important with neural networks than it has been with any other models that we have considered up to this point. Other supervised learning models might have a couple of parameters, but neural networks can have dozens. These can substantially affect the accuracy of our models and although it can be a time consuming process is a necessary step when working with neural networks.\n",
        "​\n",
        "Hyperparameter tuning comes with a challenge. How can we compare models specified with different hyperparameters if our model's final error metric can vary somewhat erratically? How do we avoid just getting unlucky and selecting the wrong hyperparameter? This is a problem that to a certain degree we just have to live with as we test and test again. However, we can minimize it somewhat by pairing our experiments with Cross Validation to reduce the variance of our final accuracy values."
      ]
    },
    {
      "cell_type": "markdown",
      "metadata": {
        "colab_type": "text",
        "id": "0s0o2pqBs88q"
      },
      "source": [
        "### Load Boston Housing Data"
      ]
    },
    {
      "cell_type": "code",
      "metadata": {
        "id": "U-_kO2Hruu-g",
        "colab_type": "code",
        "colab": {}
      },
      "source": [
        "from tensorflow.keras.datasets import boston_housing\n",
        "\n",
        "(x_train, y_train), (x_test, y_test) = boston_housing.load_data()"
      ],
      "execution_count": 0,
      "outputs": []
    },
    {
      "cell_type": "markdown",
      "metadata": {
        "colab_type": "text",
        "id": "Pm7zow5IvaTt"
      },
      "source": [
        "### Normalizing Input Data\n",
        "\n",
        "It's not 100% necessary to normalize/scale your input data before feeding it to a neural network, the network can learn the appropriate weights to deal with data of as long as it is numerically represented,  but it is recommended as it can help **make training faster** and **reduces the chances that gradient descent might get stuck in a local optimum**.\n",
        "\n",
        "<https://stackoverflow.com/questions/4674623/why-do-we-have-to-normalize-the-input-for-an-artificial-neural-network>"
      ]
    },
    {
      "cell_type": "code",
      "metadata": {
        "id": "biCR0AcOuu-l",
        "colab_type": "code",
        "colab": {
          "base_uri": "https://localhost:8080/",
          "height": 527
        },
        "outputId": "74767438-c1d1-4cc4-d7a6-9cb0f10c863a"
      },
      "source": [
        "from sklearn.preprocessing import StandardScaler\n",
        "\n",
        "scaler = StandardScaler()\n",
        "\n",
        "x_train = scaler.fit_transform(x_train)\n",
        "x_test = scaler.transform(x_test)\n",
        "print(x_train[:10])"
      ],
      "execution_count": 3,
      "outputs": [
        {
          "output_type": "stream",
          "text": [
            "[[-0.27224633 -0.48361547 -0.43576161 -0.25683275 -0.1652266  -0.1764426\n",
            "   0.81306188  0.1166983  -0.62624905 -0.59517003  1.14850044  0.44807713\n",
            "   0.8252202 ]\n",
            " [-0.40342651  2.99178419 -1.33391162 -0.25683275 -1.21518188  1.89434613\n",
            "  -1.91036058  1.24758524 -0.85646254 -0.34843254 -1.71818909  0.43190599\n",
            "  -1.32920239]\n",
            " [ 0.1249402  -0.48361547  1.0283258  -0.25683275  0.62864202 -1.82968811\n",
            "   1.11048828 -1.18743907  1.67588577  1.5652875   0.78447637  0.22061726\n",
            "  -1.30850006]\n",
            " [-0.40149354 -0.48361547 -0.86940196 -0.25683275 -0.3615597  -0.3245576\n",
            "  -1.23667187  1.10717989 -0.51114231 -1.094663    0.78447637  0.44807713\n",
            "  -0.65292624]\n",
            " [-0.0056343  -0.48361547  1.0283258  -0.25683275  1.32861221  0.15364225\n",
            "   0.69480801 -0.57857203  1.67588577  1.5652875   0.78447637  0.3898823\n",
            "   0.26349695]\n",
            " [-0.37502238 -0.48361547 -0.54747912 -0.25683275 -0.54935658 -0.78865126\n",
            "   0.18954148  0.48371503 -0.51114231 -0.71552978  0.51145832  0.38669063\n",
            "  -0.13812828]\n",
            " [ 0.58963463 -0.48361547  1.0283258  -0.25683275  1.21764133 -1.03127774\n",
            "   1.11048828 -1.06518235  1.67588577  1.5652875   0.78447637  0.44807713\n",
            "   1.49873604]\n",
            " [ 0.0381708  -0.48361547  1.24588095 -0.25683275  2.67733525 -1.12719983\n",
            "   1.11048828 -1.14833073 -0.51114231 -0.01744323 -1.71818909  0.44807713\n",
            "   1.88793986]\n",
            " [-0.17228416 -0.48361547  1.24588095 -0.25683275  2.67733525 -0.90150078\n",
            "   1.11048828 -1.09664657 -0.51114231 -0.01744323 -1.71818909 -1.97365769\n",
            "   0.53952803]\n",
            " [-0.22932104 -0.48361547  1.58544339 -0.25683275  0.56888847 -1.76056777\n",
            "   1.11048828 -1.13471925 -0.62624905  0.18716835  1.23950646  0.44807713\n",
            "   2.99068404]]\n"
          ],
          "name": "stdout"
        }
      ]
    },
    {
      "cell_type": "markdown",
      "metadata": {
        "colab_type": "text",
        "id": "l6hgCWbir90R"
      },
      "source": [
        "### Model Validation using an automatic verification Dataset\n",
        "\n",
        "Instead of doing seperate train test split class, Keras has a really nice feature that you can set the validation.data argument when fitting your model and Keras will take that portion of your test data and use it as a validation dataset. "
      ]
    },
    {
      "cell_type": "code",
      "metadata": {
        "colab_type": "code",
        "id": "GMXVfmzXp1Oo",
        "colab": {
          "base_uri": "https://localhost:8080/",
          "height": 714
        },
        "outputId": "df98ad51-5139-419d-b2ec-dcb0517eca0b"
      },
      "source": [
        "from tensorflow import keras\n",
        "from tensorflow.keras.models import Sequential\n",
        "from tensorflow.keras.layers import Dense\n",
        "\n",
        "# Important Hyperparameters\n",
        "inputs = x_train.shape[1]\n",
        "epochs = 20\n",
        "batch_size = 10\n",
        "\n",
        "\n",
        "# Create Model\n",
        "model = Sequential()\n",
        "model.add(Dense(64, activation='relu', input_shape=(inputs,)))\n",
        "model.add(Dense(64, activation='relu'))\n",
        "model.add(Dense(1))\n",
        "\n",
        "# Compile Model\n",
        "model.compile(optimizer='adam', loss='mse', metrics=['mse', 'mae'])\n",
        "\n",
        "# Fit Model\n",
        "model.fit(x_train, y_train, \n",
        "          validation_data=(x_test,y_test), \n",
        "          epochs=epochs, \n",
        "          batch_size=batch_size\n",
        "         )"
      ],
      "execution_count": 4,
      "outputs": [
        {
          "output_type": "stream",
          "text": [
            "Epoch 1/20\n",
            "41/41 [==============================] - 0s 6ms/step - loss: 480.9789 - mse: 478.9857 - mae: 19.8574 - val_loss: 388.7722 - val_mse: 385.1006 - val_mae: 17.5376\n",
            "Epoch 2/20\n",
            "41/41 [==============================] - 0s 3ms/step - loss: 226.0503 - mse: 228.5898 - mae: 12.6569 - val_loss: 110.9450 - val_mse: 108.4926 - val_mae: 8.7991\n",
            "Epoch 3/20\n",
            "41/41 [==============================] - 0s 3ms/step - loss: 72.8209 - mse: 73.1129 - mae: 6.4946 - val_loss: 52.9888 - val_mse: 51.3360 - val_mae: 5.6779\n",
            "Epoch 4/20\n",
            "41/41 [==============================] - 0s 3ms/step - loss: 39.6593 - mse: 39.7468 - mae: 4.5058 - val_loss: 35.7311 - val_mse: 33.6586 - val_mae: 4.5869\n",
            "Epoch 5/20\n",
            "41/41 [==============================] - 0s 3ms/step - loss: 28.7415 - mse: 29.0960 - mae: 3.7403 - val_loss: 30.2573 - val_mse: 28.1344 - val_mae: 4.2460\n",
            "Epoch 6/20\n",
            "41/41 [==============================] - 0s 3ms/step - loss: 24.4909 - mse: 24.4010 - mae: 3.4452 - val_loss: 27.1914 - val_mse: 25.3335 - val_mae: 3.9172\n",
            "Epoch 7/20\n",
            "41/41 [==============================] - 0s 3ms/step - loss: 21.1036 - mse: 21.3513 - mae: 3.1561 - val_loss: 24.7713 - val_mse: 22.8695 - val_mae: 3.7569\n",
            "Epoch 8/20\n",
            "41/41 [==============================] - 0s 3ms/step - loss: 18.9700 - mse: 19.0185 - mae: 2.9974 - val_loss: 23.9022 - val_mse: 22.2223 - val_mae: 3.5940\n",
            "Epoch 9/20\n",
            "41/41 [==============================] - 0s 3ms/step - loss: 17.4133 - mse: 17.3805 - mae: 2.9123 - val_loss: 23.0771 - val_mse: 21.4969 - val_mae: 3.4832\n",
            "Epoch 10/20\n",
            "41/41 [==============================] - 0s 3ms/step - loss: 15.9204 - mse: 15.9963 - mae: 2.7373 - val_loss: 23.0763 - val_mse: 22.1015 - val_mae: 3.4661\n",
            "Epoch 11/20\n",
            "41/41 [==============================] - 0s 3ms/step - loss: 14.6647 - mse: 14.8733 - mae: 2.6798 - val_loss: 22.4126 - val_mse: 21.3248 - val_mae: 3.3682\n",
            "Epoch 12/20\n",
            "41/41 [==============================] - 0s 3ms/step - loss: 13.5790 - mse: 13.7190 - mae: 2.5516 - val_loss: 22.2050 - val_mse: 21.4790 - val_mae: 3.3129\n",
            "Epoch 13/20\n",
            "41/41 [==============================] - 0s 3ms/step - loss: 12.9394 - mse: 12.9592 - mae: 2.5470 - val_loss: 22.2110 - val_mse: 21.5480 - val_mae: 3.2529\n",
            "Epoch 14/20\n",
            "41/41 [==============================] - 0s 3ms/step - loss: 12.2826 - mse: 12.4028 - mae: 2.4426 - val_loss: 22.1044 - val_mse: 21.7260 - val_mae: 3.2517\n",
            "Epoch 15/20\n",
            "41/41 [==============================] - 0s 3ms/step - loss: 11.6580 - mse: 11.8275 - mae: 2.3999 - val_loss: 22.3342 - val_mse: 21.9560 - val_mae: 3.2553\n",
            "Epoch 16/20\n",
            "41/41 [==============================] - 0s 3ms/step - loss: 11.6725 - mse: 11.4758 - mae: 2.3992 - val_loss: 22.2316 - val_mse: 21.9574 - val_mae: 3.1834\n",
            "Epoch 17/20\n",
            "41/41 [==============================] - 0s 3ms/step - loss: 10.8491 - mse: 10.9292 - mae: 2.3264 - val_loss: 22.8033 - val_mse: 22.3061 - val_mae: 3.1810\n",
            "Epoch 18/20\n",
            "41/41 [==============================] - 0s 3ms/step - loss: 10.6371 - mse: 10.7675 - mae: 2.3420 - val_loss: 21.9148 - val_mse: 21.6747 - val_mae: 3.0980\n",
            "Epoch 19/20\n",
            "41/41 [==============================] - 0s 3ms/step - loss: 12.3532 - mse: 10.3776 - mae: 2.2731 - val_loss: 21.5173 - val_mse: 21.4870 - val_mae: 3.0831\n",
            "Epoch 20/20\n",
            "41/41 [==============================] - 0s 3ms/step - loss: 10.2384 - mse: 10.3752 - mae: 2.3284 - val_loss: 21.5439 - val_mse: 21.4282 - val_mae: 3.0596\n"
          ],
          "name": "stdout"
        },
        {
          "output_type": "execute_result",
          "data": {
            "text/plain": [
              "<tensorflow.python.keras.callbacks.History at 0x7f2ef02f32b0>"
            ]
          },
          "metadata": {
            "tags": []
          },
          "execution_count": 4
        }
      ]
    },
    {
      "cell_type": "markdown",
      "metadata": {
        "colab_type": "text",
        "id": "sYJ8t_ezHP4W"
      },
      "source": [
        "### Hyperparameter Tuning Approaches:\n",
        "\n",
        "#### 1) Babysitting AKA \"Grad Student Descent\".\n",
        "\n",
        "If you fiddled with any hyperparameters yesterday, this is basically what you did. This approach is 100% manual and is pretty common among researchers where finding that 1 exact specification that jumps your model to a level of accuracy never seen before is the difference between publishing and not publishing a paper. Of course the professors don't do this themselves, that's grunt work. This is also known as the fiddle with hyperparameters until you run out of time method.\n",
        "\n",
        "#### 2) Grid Search\n",
        "\n",
        "Grid Search is the Grad Student galaxy brain realization of: why don't I just specify all the experiments I want to run and let the computer try every possible combination of them while I go and grab lunch. This has a specific downside in that if I specify 5 hyperparameters with 5 options each then I've just created 5^5 combinations of hyperparameters to check. Which means that I have to train 3125 different versions of my model Then if I use 5-fold Cross Validation on that then my model has to run 15,525 times. This is the brute-force method of hyperparameter tuning, but it can be very profitable if done wisely. \n",
        "\n",
        "When using Grid Search here's what I suggest: don't use it to test combinations of different hyperparameters, only use it to test different specifications of **a single** hyperparameter. It's rare that combinations between different hyperparameters lead to big performance gains. You'll get 90-95% of the way there if you just Grid Search one parameter and take the best result, then retain that best result while you test another, and then retain the best specification from that while you train another. This at least makes the situation much more manageable and leads to pretty good results. \n",
        "\n",
        "#### 3) Random Search\n",
        "\n",
        "Do Grid Search for a couple of hours and you'll say to yourself - \"There's got to be a better way.\" Enter Random Search. For Random search you specify a hyperparameter space and it picks specifications from that randomly, tries them out, gives you the best results and says - That's going to have to be good enough, go home and spend time with your family. \n",
        "\n",
        "Grid Search treats every parameter as if it was equally important, but this just isn't the case, some are known to move the needle a lot more than others (we'll talk about that in a minute). Random Search allows searching to be specified along the most important parameter and experiments less along the dimensions of less important hyperparameters. The downside of Random search is that it won't find the absolute best hyperparameters, but it is much less costly to perform than Grid Search. \n",
        "\n",
        "#### 4) Bayesian Methods\n",
        "\n",
        "One thing that can make more manual methods like babysitting and gridsearch effective is that as the experimenter sees results he can then make updates to his future searches taking into account the results of past specifications. If only we could hyperparameter tune our hyperparameter tuning. Well, we kind of can. Enter Bayesian Optimization. Neural Networks are like an optimization problem within an optimization problem, and Bayesian Optimization is a search strategy that tries to take into account the results of past searches in order to improve future ones. Check out the new library `keras-tuner` for easy implementations of Bayesian methods. \n"
      ]
    },
    {
      "cell_type": "markdown",
      "metadata": {
        "colab_type": "text",
        "id": "HfQ7D043OMMn"
      },
      "source": [
        "## What Hyperparameters are there to test?\n",
        "\n",
        "- batch_size\n",
        "- training epochs\n",
        "- optimization algorithms\n",
        "- learning rate\n",
        "- momentum\n",
        "- activation functions\n",
        "- dropout regularization\n",
        "- number of neurons in the hidden layer\n",
        "\n",
        "There are more, but these are the most important."
      ]
    },
    {
      "cell_type": "markdown",
      "metadata": {
        "id": "JhM8hTehuu-t",
        "colab_type": "text"
      },
      "source": [
        "## Follow Along"
      ]
    },
    {
      "cell_type": "markdown",
      "metadata": {
        "colab_type": "text",
        "id": "Mri5-kXzVKAa"
      },
      "source": [
        "## Batch Size\n",
        "\n",
        "Batch size determines how many observations the model is shown before it calculates loss/error and updates the model weights via gradient descent. You're looking for a sweet spot here where you're showing it enough observations that you have enough information to updates the weights, but not such a large batch size that you don't get a lot of weight update iterations performed in a given epoch. Feed-forward Neural Networks aren't as sensitive to bach_size as other networks, but it is still an important hyperparameter to tune. Smaller batch sizes will also take longer to train. \n",
        "\n",
        "Traditionally, batch size is set in powers of 2 starting at 32 up to 512. Keras defaults to a batch size of 32 if you do not specify it. Yann LeCun famously Twitted: \n",
        "\n",
        "> Training with large minibatches is bad for your health.\n",
        "More importantly, it's bad for your test error.\n",
        "Friends dont let friends use minibatches larger than 32.\n",
        "\n",
        "Check out this paper for more reference on his tweet. https://arxiv.org/abs/1804.07612. \n",
        "\n",
        "Check out this SO question on why batch size is typically set in powers of two: https://datascience.stackexchange.com/questions/20179/what-is-the-advantage-of-keeping-batch-size-a-power-of-2\n",
        "\n"
      ]
    },
    {
      "cell_type": "code",
      "metadata": {
        "colab_type": "code",
        "id": "2smXfriNAGn7",
        "colab": {
          "base_uri": "https://localhost:8080/",
          "height": 375
        },
        "outputId": "ae91c5b9-d5de-42c7-eb49-58fe3df79706"
      },
      "source": [
        "import numpy\n",
        "import pandas as pd\n",
        "from sklearn.model_selection import GridSearchCV\n",
        "from tensorflow.keras.models import Sequential\n",
        "from tensorflow.keras.layers import Dense\n",
        "from tensorflow.keras.wrappers.scikit_learn import KerasClassifier\n",
        "\n",
        "# fix random seed for reproducibility\n",
        "seed = 7\n",
        "numpy.random.seed(seed)\n",
        "\n",
        "# load dataset\n",
        "url =\"https://raw.githubusercontent.com/jbrownlee/Datasets/master/pima-indians-diabetes.data.csv\"\n",
        "\n",
        "dataset = pd.read_csv(url, header=None).values\n",
        "\n",
        "# split into input (X) and output (Y) variables\n",
        "X = dataset[:,0:8]\n",
        "Y = dataset[:,8]\n",
        "\n",
        "# Function to create model, required for KerasClassifier\n",
        "def create_model():\n",
        "    # create model\n",
        "    model = Sequential()\n",
        "    model.add(Dense(12, input_dim=8, activation='relu'))\n",
        "    model.add(Dense(12, activation='relu'))\n",
        "    model.add(Dense(12, activation='relu'))\n",
        "    model.add(Dense(12, activation='relu'))\n",
        "    model.add(Dense(1, activation='sigmoid'))\n",
        "    # Compile model\n",
        "    model.compile(loss='binary_crossentropy', optimizer='adam', metrics=['accuracy'])\n",
        "    return model\n",
        "\n",
        "# create model\n",
        "model = KerasClassifier(build_fn=create_model, verbose=0)\n",
        "\n",
        "# define the grid search parameters\n",
        "# batch_size = [10, 20, 40, 60, 80, 100]\n",
        "# param_grid = dict(batch_size=batch_size, epochs=epochs)\n",
        "\n",
        "# define the grid search parameters\n",
        "param_grid = {'batch_size': [ 64, 128],\n",
        "              'epochs': [100, 200]}\n",
        "\n",
        "# Create Grid Search\n",
        "grid = GridSearchCV(estimator=model, param_grid=param_grid, n_jobs=4)\n",
        "grid_result = grid.fit(X, Y)\n",
        "\n",
        "# Report Results\n",
        "print(f\"Best: {grid_result.best_score_} using {grid_result.best_params_}\")\n",
        "means = grid_result.cv_results_['mean_test_score']\n",
        "stds = grid_result.cv_results_['std_test_score']\n",
        "params = grid_result.cv_results_['params']\n",
        "for mean, stdev, param in zip(means, stds, params):\n",
        "    print(f\"Means: {mean}, Stdev: {stdev} with: {param}\") "
      ],
      "execution_count": 5,
      "outputs": [
        {
          "output_type": "error",
          "ename": "KeyboardInterrupt",
          "evalue": "ignored",
          "traceback": [
            "\u001b[0;31m---------------------------------------------------------------------------\u001b[0m",
            "\u001b[0;31mKeyboardInterrupt\u001b[0m                         Traceback (most recent call last)",
            "\u001b[0;32m<ipython-input-5-b9cf073cd050>\u001b[0m in \u001b[0;36m<module>\u001b[0;34m()\u001b[0m\n\u001b[1;32m     45\u001b[0m \u001b[0;31m# Create Grid Search\u001b[0m\u001b[0;34m\u001b[0m\u001b[0;34m\u001b[0m\u001b[0;34m\u001b[0m\u001b[0m\n\u001b[1;32m     46\u001b[0m \u001b[0mgrid\u001b[0m \u001b[0;34m=\u001b[0m \u001b[0mGridSearchCV\u001b[0m\u001b[0;34m(\u001b[0m\u001b[0mestimator\u001b[0m\u001b[0;34m=\u001b[0m\u001b[0mmodel\u001b[0m\u001b[0;34m,\u001b[0m \u001b[0mparam_grid\u001b[0m\u001b[0;34m=\u001b[0m\u001b[0mparam_grid\u001b[0m\u001b[0;34m,\u001b[0m \u001b[0mn_jobs\u001b[0m\u001b[0;34m=\u001b[0m\u001b[0;36m4\u001b[0m\u001b[0;34m)\u001b[0m\u001b[0;34m\u001b[0m\u001b[0;34m\u001b[0m\u001b[0m\n\u001b[0;32m---> 47\u001b[0;31m \u001b[0mgrid_result\u001b[0m \u001b[0;34m=\u001b[0m \u001b[0mgrid\u001b[0m\u001b[0;34m.\u001b[0m\u001b[0mfit\u001b[0m\u001b[0;34m(\u001b[0m\u001b[0mX\u001b[0m\u001b[0;34m,\u001b[0m \u001b[0mY\u001b[0m\u001b[0;34m)\u001b[0m\u001b[0;34m\u001b[0m\u001b[0;34m\u001b[0m\u001b[0m\n\u001b[0m\u001b[1;32m     48\u001b[0m \u001b[0;34m\u001b[0m\u001b[0m\n\u001b[1;32m     49\u001b[0m \u001b[0;31m# Report Results\u001b[0m\u001b[0;34m\u001b[0m\u001b[0;34m\u001b[0m\u001b[0;34m\u001b[0m\u001b[0m\n",
            "\u001b[0;32m/usr/local/lib/python3.6/dist-packages/sklearn/model_selection/_search.py\u001b[0m in \u001b[0;36mfit\u001b[0;34m(self, X, y, groups, **fit_params)\u001b[0m\n\u001b[1;32m    708\u001b[0m                 \u001b[0;32mreturn\u001b[0m \u001b[0mresults\u001b[0m\u001b[0;34m\u001b[0m\u001b[0;34m\u001b[0m\u001b[0m\n\u001b[1;32m    709\u001b[0m \u001b[0;34m\u001b[0m\u001b[0m\n\u001b[0;32m--> 710\u001b[0;31m             \u001b[0mself\u001b[0m\u001b[0;34m.\u001b[0m\u001b[0m_run_search\u001b[0m\u001b[0;34m(\u001b[0m\u001b[0mevaluate_candidates\u001b[0m\u001b[0;34m)\u001b[0m\u001b[0;34m\u001b[0m\u001b[0;34m\u001b[0m\u001b[0m\n\u001b[0m\u001b[1;32m    711\u001b[0m \u001b[0;34m\u001b[0m\u001b[0m\n\u001b[1;32m    712\u001b[0m         \u001b[0;31m# For multi-metric evaluation, store the best_index_, best_params_ and\u001b[0m\u001b[0;34m\u001b[0m\u001b[0;34m\u001b[0m\u001b[0;34m\u001b[0m\u001b[0m\n",
            "\u001b[0;32m/usr/local/lib/python3.6/dist-packages/sklearn/model_selection/_search.py\u001b[0m in \u001b[0;36m_run_search\u001b[0;34m(self, evaluate_candidates)\u001b[0m\n\u001b[1;32m   1149\u001b[0m     \u001b[0;32mdef\u001b[0m \u001b[0m_run_search\u001b[0m\u001b[0;34m(\u001b[0m\u001b[0mself\u001b[0m\u001b[0;34m,\u001b[0m \u001b[0mevaluate_candidates\u001b[0m\u001b[0;34m)\u001b[0m\u001b[0;34m:\u001b[0m\u001b[0;34m\u001b[0m\u001b[0;34m\u001b[0m\u001b[0m\n\u001b[1;32m   1150\u001b[0m         \u001b[0;34m\"\"\"Search all candidates in param_grid\"\"\"\u001b[0m\u001b[0;34m\u001b[0m\u001b[0;34m\u001b[0m\u001b[0m\n\u001b[0;32m-> 1151\u001b[0;31m         \u001b[0mevaluate_candidates\u001b[0m\u001b[0;34m(\u001b[0m\u001b[0mParameterGrid\u001b[0m\u001b[0;34m(\u001b[0m\u001b[0mself\u001b[0m\u001b[0;34m.\u001b[0m\u001b[0mparam_grid\u001b[0m\u001b[0;34m)\u001b[0m\u001b[0;34m)\u001b[0m\u001b[0;34m\u001b[0m\u001b[0;34m\u001b[0m\u001b[0m\n\u001b[0m\u001b[1;32m   1152\u001b[0m \u001b[0;34m\u001b[0m\u001b[0m\n\u001b[1;32m   1153\u001b[0m \u001b[0;34m\u001b[0m\u001b[0m\n",
            "\u001b[0;32m/usr/local/lib/python3.6/dist-packages/sklearn/model_selection/_search.py\u001b[0m in \u001b[0;36mevaluate_candidates\u001b[0;34m(candidate_params)\u001b[0m\n\u001b[1;32m    687\u001b[0m                                \u001b[0;32mfor\u001b[0m \u001b[0mparameters\u001b[0m\u001b[0;34m,\u001b[0m \u001b[0;34m(\u001b[0m\u001b[0mtrain\u001b[0m\u001b[0;34m,\u001b[0m \u001b[0mtest\u001b[0m\u001b[0;34m)\u001b[0m\u001b[0;34m\u001b[0m\u001b[0;34m\u001b[0m\u001b[0m\n\u001b[1;32m    688\u001b[0m                                in product(candidate_params,\n\u001b[0;32m--> 689\u001b[0;31m                                           cv.split(X, y, groups)))\n\u001b[0m\u001b[1;32m    690\u001b[0m \u001b[0;34m\u001b[0m\u001b[0m\n\u001b[1;32m    691\u001b[0m                 \u001b[0;32mif\u001b[0m \u001b[0mlen\u001b[0m\u001b[0;34m(\u001b[0m\u001b[0mout\u001b[0m\u001b[0;34m)\u001b[0m \u001b[0;34m<\u001b[0m \u001b[0;36m1\u001b[0m\u001b[0;34m:\u001b[0m\u001b[0;34m\u001b[0m\u001b[0;34m\u001b[0m\u001b[0m\n",
            "\u001b[0;32m/usr/local/lib/python3.6/dist-packages/joblib/parallel.py\u001b[0m in \u001b[0;36m__call__\u001b[0;34m(self, iterable)\u001b[0m\n\u001b[1;32m   1015\u001b[0m \u001b[0;34m\u001b[0m\u001b[0m\n\u001b[1;32m   1016\u001b[0m             \u001b[0;32mwith\u001b[0m \u001b[0mself\u001b[0m\u001b[0;34m.\u001b[0m\u001b[0m_backend\u001b[0m\u001b[0;34m.\u001b[0m\u001b[0mretrieval_context\u001b[0m\u001b[0;34m(\u001b[0m\u001b[0;34m)\u001b[0m\u001b[0;34m:\u001b[0m\u001b[0;34m\u001b[0m\u001b[0;34m\u001b[0m\u001b[0m\n\u001b[0;32m-> 1017\u001b[0;31m                 \u001b[0mself\u001b[0m\u001b[0;34m.\u001b[0m\u001b[0mretrieve\u001b[0m\u001b[0;34m(\u001b[0m\u001b[0;34m)\u001b[0m\u001b[0;34m\u001b[0m\u001b[0;34m\u001b[0m\u001b[0m\n\u001b[0m\u001b[1;32m   1018\u001b[0m             \u001b[0;31m# Make sure that we get a last message telling us we are done\u001b[0m\u001b[0;34m\u001b[0m\u001b[0;34m\u001b[0m\u001b[0;34m\u001b[0m\u001b[0m\n\u001b[1;32m   1019\u001b[0m             \u001b[0melapsed_time\u001b[0m \u001b[0;34m=\u001b[0m \u001b[0mtime\u001b[0m\u001b[0;34m.\u001b[0m\u001b[0mtime\u001b[0m\u001b[0;34m(\u001b[0m\u001b[0;34m)\u001b[0m \u001b[0;34m-\u001b[0m \u001b[0mself\u001b[0m\u001b[0;34m.\u001b[0m\u001b[0m_start_time\u001b[0m\u001b[0;34m\u001b[0m\u001b[0;34m\u001b[0m\u001b[0m\n",
            "\u001b[0;32m/usr/local/lib/python3.6/dist-packages/joblib/parallel.py\u001b[0m in \u001b[0;36mretrieve\u001b[0;34m(self)\u001b[0m\n\u001b[1;32m    907\u001b[0m             \u001b[0;32mtry\u001b[0m\u001b[0;34m:\u001b[0m\u001b[0;34m\u001b[0m\u001b[0;34m\u001b[0m\u001b[0m\n\u001b[1;32m    908\u001b[0m                 \u001b[0;32mif\u001b[0m \u001b[0mgetattr\u001b[0m\u001b[0;34m(\u001b[0m\u001b[0mself\u001b[0m\u001b[0;34m.\u001b[0m\u001b[0m_backend\u001b[0m\u001b[0;34m,\u001b[0m \u001b[0;34m'supports_timeout'\u001b[0m\u001b[0;34m,\u001b[0m \u001b[0;32mFalse\u001b[0m\u001b[0;34m)\u001b[0m\u001b[0;34m:\u001b[0m\u001b[0;34m\u001b[0m\u001b[0;34m\u001b[0m\u001b[0m\n\u001b[0;32m--> 909\u001b[0;31m                     \u001b[0mself\u001b[0m\u001b[0;34m.\u001b[0m\u001b[0m_output\u001b[0m\u001b[0;34m.\u001b[0m\u001b[0mextend\u001b[0m\u001b[0;34m(\u001b[0m\u001b[0mjob\u001b[0m\u001b[0;34m.\u001b[0m\u001b[0mget\u001b[0m\u001b[0;34m(\u001b[0m\u001b[0mtimeout\u001b[0m\u001b[0;34m=\u001b[0m\u001b[0mself\u001b[0m\u001b[0;34m.\u001b[0m\u001b[0mtimeout\u001b[0m\u001b[0;34m)\u001b[0m\u001b[0;34m)\u001b[0m\u001b[0;34m\u001b[0m\u001b[0;34m\u001b[0m\u001b[0m\n\u001b[0m\u001b[1;32m    910\u001b[0m                 \u001b[0;32melse\u001b[0m\u001b[0;34m:\u001b[0m\u001b[0;34m\u001b[0m\u001b[0;34m\u001b[0m\u001b[0m\n\u001b[1;32m    911\u001b[0m                     \u001b[0mself\u001b[0m\u001b[0;34m.\u001b[0m\u001b[0m_output\u001b[0m\u001b[0;34m.\u001b[0m\u001b[0mextend\u001b[0m\u001b[0;34m(\u001b[0m\u001b[0mjob\u001b[0m\u001b[0;34m.\u001b[0m\u001b[0mget\u001b[0m\u001b[0;34m(\u001b[0m\u001b[0;34m)\u001b[0m\u001b[0;34m)\u001b[0m\u001b[0;34m\u001b[0m\u001b[0;34m\u001b[0m\u001b[0m\n",
            "\u001b[0;32m/usr/local/lib/python3.6/dist-packages/joblib/_parallel_backends.py\u001b[0m in \u001b[0;36mwrap_future_result\u001b[0;34m(future, timeout)\u001b[0m\n\u001b[1;32m    560\u001b[0m         AsyncResults.get from multiprocessing.\"\"\"\n\u001b[1;32m    561\u001b[0m         \u001b[0;32mtry\u001b[0m\u001b[0;34m:\u001b[0m\u001b[0;34m\u001b[0m\u001b[0;34m\u001b[0m\u001b[0m\n\u001b[0;32m--> 562\u001b[0;31m             \u001b[0;32mreturn\u001b[0m \u001b[0mfuture\u001b[0m\u001b[0;34m.\u001b[0m\u001b[0mresult\u001b[0m\u001b[0;34m(\u001b[0m\u001b[0mtimeout\u001b[0m\u001b[0;34m=\u001b[0m\u001b[0mtimeout\u001b[0m\u001b[0;34m)\u001b[0m\u001b[0;34m\u001b[0m\u001b[0;34m\u001b[0m\u001b[0m\n\u001b[0m\u001b[1;32m    563\u001b[0m         \u001b[0;32mexcept\u001b[0m \u001b[0mLokyTimeoutError\u001b[0m\u001b[0;34m:\u001b[0m\u001b[0;34m\u001b[0m\u001b[0;34m\u001b[0m\u001b[0m\n\u001b[1;32m    564\u001b[0m             \u001b[0;32mraise\u001b[0m \u001b[0mTimeoutError\u001b[0m\u001b[0;34m(\u001b[0m\u001b[0;34m)\u001b[0m\u001b[0;34m\u001b[0m\u001b[0;34m\u001b[0m\u001b[0m\n",
            "\u001b[0;32m/usr/lib/python3.6/concurrent/futures/_base.py\u001b[0m in \u001b[0;36mresult\u001b[0;34m(self, timeout)\u001b[0m\n\u001b[1;32m    425\u001b[0m                 \u001b[0;32mreturn\u001b[0m \u001b[0mself\u001b[0m\u001b[0;34m.\u001b[0m\u001b[0m__get_result\u001b[0m\u001b[0;34m(\u001b[0m\u001b[0;34m)\u001b[0m\u001b[0;34m\u001b[0m\u001b[0;34m\u001b[0m\u001b[0m\n\u001b[1;32m    426\u001b[0m \u001b[0;34m\u001b[0m\u001b[0m\n\u001b[0;32m--> 427\u001b[0;31m             \u001b[0mself\u001b[0m\u001b[0;34m.\u001b[0m\u001b[0m_condition\u001b[0m\u001b[0;34m.\u001b[0m\u001b[0mwait\u001b[0m\u001b[0;34m(\u001b[0m\u001b[0mtimeout\u001b[0m\u001b[0;34m)\u001b[0m\u001b[0;34m\u001b[0m\u001b[0;34m\u001b[0m\u001b[0m\n\u001b[0m\u001b[1;32m    428\u001b[0m \u001b[0;34m\u001b[0m\u001b[0m\n\u001b[1;32m    429\u001b[0m             \u001b[0;32mif\u001b[0m \u001b[0mself\u001b[0m\u001b[0;34m.\u001b[0m\u001b[0m_state\u001b[0m \u001b[0;32min\u001b[0m \u001b[0;34m[\u001b[0m\u001b[0mCANCELLED\u001b[0m\u001b[0;34m,\u001b[0m \u001b[0mCANCELLED_AND_NOTIFIED\u001b[0m\u001b[0;34m]\u001b[0m\u001b[0;34m:\u001b[0m\u001b[0;34m\u001b[0m\u001b[0;34m\u001b[0m\u001b[0m\n",
            "\u001b[0;32m/usr/lib/python3.6/threading.py\u001b[0m in \u001b[0;36mwait\u001b[0;34m(self, timeout)\u001b[0m\n\u001b[1;32m    293\u001b[0m         \u001b[0;32mtry\u001b[0m\u001b[0;34m:\u001b[0m    \u001b[0;31m# restore state no matter what (e.g., KeyboardInterrupt)\u001b[0m\u001b[0;34m\u001b[0m\u001b[0;34m\u001b[0m\u001b[0m\n\u001b[1;32m    294\u001b[0m             \u001b[0;32mif\u001b[0m \u001b[0mtimeout\u001b[0m \u001b[0;32mis\u001b[0m \u001b[0;32mNone\u001b[0m\u001b[0;34m:\u001b[0m\u001b[0;34m\u001b[0m\u001b[0;34m\u001b[0m\u001b[0m\n\u001b[0;32m--> 295\u001b[0;31m                 \u001b[0mwaiter\u001b[0m\u001b[0;34m.\u001b[0m\u001b[0macquire\u001b[0m\u001b[0;34m(\u001b[0m\u001b[0;34m)\u001b[0m\u001b[0;34m\u001b[0m\u001b[0;34m\u001b[0m\u001b[0m\n\u001b[0m\u001b[1;32m    296\u001b[0m                 \u001b[0mgotit\u001b[0m \u001b[0;34m=\u001b[0m \u001b[0;32mTrue\u001b[0m\u001b[0;34m\u001b[0m\u001b[0;34m\u001b[0m\u001b[0m\n\u001b[1;32m    297\u001b[0m             \u001b[0;32melse\u001b[0m\u001b[0;34m:\u001b[0m\u001b[0;34m\u001b[0m\u001b[0;34m\u001b[0m\u001b[0m\n",
            "\u001b[0;31mKeyboardInterrupt\u001b[0m: "
          ]
        }
      ]
    },
    {
      "cell_type": "code",
      "metadata": {
        "id": "YnfJX-7M511P",
        "colab_type": "code",
        "colab": {}
      },
      "source": [
        "# batch 10 20 50 100\n",
        "# Batch size 20, epochs 50 was first best hyper parameter\n",
        "\n",
        "\n",
        "# batch_size': [32, 64, 128, 256, 512],\n",
        "#               'epochs': [20, 50]}\n",
        "# batch 64 epochs 50\n",
        "\n",
        "# batch 64 epochs 200 optimizer adam .7135\n",
        "\n",
        "# batch 64 epochs 200           nadam   .7031\n",
        "\n",
        "#             rmsprop                   .7044\n",
        "\n",
        "# Extra dense layer added \n",
        "# batch 64 epochs 200 optimizer adam .7175\n",
        "\n",
        "\n",
        "# 4 dense layer total\n",
        "# batch 64 epochs 200 optimizer adam .7187"
      ],
      "execution_count": 0,
      "outputs": []
    },
    {
      "cell_type": "markdown",
      "metadata": {
        "colab_type": "text",
        "id": "EKcuY6OiaLfz"
      },
      "source": [
        "## Optimizer\n",
        "\n",
        "Remember that there's a different optimizers [optimizers](https://keras.io/optimizers/). At some point, take some time to read up on them a little bit. \"adam\" usually gives the best results. The thing to know about choosing an optimizer is that different optimizers have different hyperparameters like learning rate, momentum, etc. So based on the optimizer you choose you might also have to tune the learning rate and momentum of those optimizers after that. "
      ]
    },
    {
      "cell_type": "markdown",
      "metadata": {
        "colab_type": "text",
        "id": "DG3wq5iOaLig"
      },
      "source": [
        "## Learning Rate\n",
        "\n",
        "Remember that the Learning Rate is a hyperparameter that is specific to your gradient-descent based optimizer selection. A learning rate that is too high will cause divergent behavior, but a Learning Rate that is too low will fail to converge, again, you're looking for the sweet spot. I would start out tuning learning rates by orders of magnitude: [.001, .01, .1, .2, .3, .5] etc. I wouldn't go above .5, but you can try it and see what the behavior is like. \n",
        "\n",
        "Once you have narrowed it down, make the window even smaller and try it again. If after running the above specification your model reports that .1 is the best optimizer, then you should probably try things like [.05, .08, .1, .12, .15] to try and narrow it down. \n",
        "\n",
        "It can also be good to tune the number of epochs in combination with the learning rate since the number of iterations that you allow the learning rate to reach the minimum can determine if you have let it run long enough to converge to the minimum. "
      ]
    },
    {
      "cell_type": "code",
      "metadata": {
        "id": "7KnHBK6wCGrq",
        "colab_type": "code",
        "colab": {
          "base_uri": "https://localhost:8080/",
          "height": 34
        },
        "outputId": "33143e4f-7942-4cf6-bbfd-26cf56897c8a"
      },
      "source": [
        "from keras.layers import Dense\n",
        "from keras.layers import Conv2D\n",
        "from keras.layers import MaxPooling2D"
      ],
      "execution_count": 7,
      "outputs": [
        {
          "output_type": "stream",
          "text": [
            "Using TensorFlow backend.\n"
          ],
          "name": "stderr"
        }
      ]
    },
    {
      "cell_type": "code",
      "metadata": {
        "id": "C85JQOYtuu-1",
        "colab_type": "code",
        "colab": {
          "base_uri": "https://localhost:8080/",
          "height": 51
        },
        "outputId": "fa93d935-d0d9-459d-ece5-8cdda4437bdd"
      },
      "source": [
        "from tensorflow.keras.optimizers import Nadam\n",
        "\n",
        "# Function to create model, required for KerasClassifier\n",
        "def create_model(learning_rate=.01):\n",
        "    # create model\n",
        "    model = Sequential()\n",
        "    model.add(Dense(24, input_dim=8, activation='relu'))\n",
        "    # model.add(Dropout(0.2))\n",
        "    model.add(Dense(24, activation='relu'))\n",
        "    model.add(Dense(1, activation='sigmoid'))\n",
        "    # Compile model\n",
        "    optimizer = Nadam(learning_rate=learning_rate)\n",
        "    model.compile(loss='binary_crossentropy', optimizer=optimizer, metrics=['accuracy'])\n",
        "    return model\n",
        "\n",
        "# create model\n",
        "model = KerasClassifier(build_fn=create_model, verbose=0)\n",
        "\n",
        "# define the grid search parameters\n",
        "# batch_size = [10, 20, 40, 60, 80, 100]\n",
        "# param_grid = dict(batch_size=batch_size, epochs=epochs)\n",
        "\n",
        "# define the grid search parameters\n",
        "param_grid = {'learning_rate': [.01],\n",
        "              'batch_size': [32],\n",
        "              'epochs': [200]}\n",
        "\n",
        "# Create Grid Search\n",
        "grid = GridSearchCV(estimator=model, param_grid=param_grid, n_jobs=4)\n",
        "grid_result = grid.fit(X, Y)\n",
        "\n",
        "# Report Results\n",
        "print(f\"Best: {grid_result.best_score_} using {grid_result.best_params_}\")\n",
        "means = grid_result.cv_results_['mean_test_score']\n",
        "stds = grid_result.cv_results_['std_test_score']\n",
        "params = grid_result.cv_results_['params']\n",
        "for mean, stdev, param in zip(means, stds, params):\n",
        "    print(f\"Means: {mean}, Stdev: {stdev} with: {param}\") "
      ],
      "execution_count": 6,
      "outputs": [
        {
          "output_type": "stream",
          "text": [
            "Best: 0.7357524871826172 using {'batch_size': 32, 'epochs': 200, 'learning_rate': 0.01}\n",
            "Means: 0.7357524871826172, Stdev: 0.04316723991111174 with: {'batch_size': 32, 'epochs': 200, 'learning_rate': 0.01}\n"
          ],
          "name": "stdout"
        }
      ]
    },
    {
      "cell_type": "code",
      "metadata": {
        "id": "d9EPandC-RH0",
        "colab_type": "code",
        "colab": {}
      },
      "source": [
        "# Best: 0.730617105960846 using {'epochs': 100, 'learning_rate': 0.01} batch 32 I think ...\n",
        "\n",
        "# Best: 0.7279433131217956 using {'batch_size': 64, 'epochs': 200, 'learning_rate': 0.01}\n",
        "\n",
        "# both these use 2x dense(12 ) layers\n",
        "\n",
        "# Best: 0.7435701608657836 using {'batch_size': 32, 'epochs': 200, 'learning_rate': 0.01} 2 dense 24\n",
        "\n",
        "\n",
        " 0.71364061 2 dense 48 \n",
        "\n",
        "\n",
        " 2 dense 48 with two dropout .2\n",
        " "
      ],
      "execution_count": 0,
      "outputs": []
    },
    {
      "cell_type": "code",
      "metadata": {
        "id": "xyE2lgRHC5R5",
        "colab_type": "code",
        "colab": {}
      },
      "source": [
        ""
      ],
      "execution_count": 0,
      "outputs": []
    },
    {
      "cell_type": "markdown",
      "metadata": {
        "colab_type": "text",
        "id": "gNTBUWd1aLlA"
      },
      "source": [
        "## Momentum\n",
        "\n",
        "Momentum is a hyperparameter that is more commonly associated with Stochastic Gradient Descent. SGD is a common optimizer because it's what people understand and know, but I doubt it will get you the best results, you can try hyperparameter tuning its attributes and see if you can beat the performance from adam. Momentum is a property that decides the willingness of an optimizer to overshoot the minimum. Imagine a ball rolling down one side of a bowl and then up the opposite side a little bit before settling back to the bottom. The purpose of momentum is to try and escale local minima."
      ]
    },
    {
      "cell_type": "markdown",
      "metadata": {
        "colab_type": "text",
        "id": "xnEG-bCJaLnZ"
      },
      "source": [
        "## Activation Functions\n",
        "\n",
        "We've talked about this a little bit, typically you'l want to use ReLU for hidden layers and either Sigmoid, or Softmax for output layers of binary and multi-class classification implementations respectively, but try other activation functions and see if you can get any better results with sigmoid or tanh or something. There are a lot of activation functions that we haven't really talked about. Maybe you'll get good results with them. Maybe you won't. :) <https://keras.io/activations/>"
      ]
    },
    {
      "cell_type": "markdown",
      "metadata": {
        "colab_type": "text",
        "id": "oul9sPq-dU-h"
      },
      "source": [
        "## Network Weight Initialization\n",
        "\n",
        "You saw how big of an effect the way that we initialize our network's weights can have on our results. There are **a lot** of what are called initialization modes. I don't understand all of them, but they can have a big affect on your model's initial accuracy. Your model will get further with less epochs if you initialize it with weights that are well suited to the problem you're trying to solve.\n",
        "\n",
        "`init_mode = ['uniform', 'lecun_uniform', 'normal', 'zero', 'glorot_normal', 'glorot_uniform', 'he_normal', 'he_uniform']`"
      ]
    },
    {
      "cell_type": "markdown",
      "metadata": {
        "colab_type": "text",
        "id": "bqtEuxeQaLqE"
      },
      "source": [
        "## Dropout Regularization and the Weight Constraint\n",
        "\n",
        "the Dropout Regularization value is a percentage of neurons that you want to be randomly deactivated during training. The weight constraint is a second regularization parameter that works in tandem with dropout regularization. You should tune these two values at the same time. \n",
        "\n",
        "Using dropout on visible vs hidden layers might have a different effect. Using dropout on hidden layers might not have any effect while using dropout on hidden layers might have a substantial effect. You don't necessarily need to turn use dropout unless you see that your model has overfitting and generalizability problems."
      ]
    },
    {
      "cell_type": "markdown",
      "metadata": {
        "colab_type": "text",
        "id": "P2c5Cv6oaLtO"
      },
      "source": [
        "## Neurons in Hidden Layer \n",
        "\n",
        "Remember that when we only had a single perceptron our model was only able to fit to linearly separable data, but as we have added layers and nodes to those layers our network has become a powerhouse of fitting nonlinearity in data. The larger the network and the more nodes generally the stronger the network's capacity to fit nonlinear patterns in data. The more nodes and layers the longer it will take to train a network, and higher the probability of overfitting. The larger your network gets the more you'll need dropout regularization or other regularization techniques to keep it in check. \n",
        "\n",
        "Typically depth (more layers) is more important than width (more nodes) for neural networks. This is part of why Deep Learning is so highly touted. Certain deep learning architectures have truly been huge breakthroughs for certain machine learning tasks. \n",
        "\n",
        "You might borrow ideas from other network architectures. For example if I was doing image recognition and I wasn't taking cues from state of the art architectures like resnet, alexnet, googlenet, etc. Then I'm probably going to have to do a lot more experimentation on my own before I find something that works.\n",
        "\n",
        "There are some heuristics, but I am highly skeptical of them. I think you're better off experimenting on your own and forming your own intuition for these kinds of problems. \n",
        "\n",
        "- https://machinelearningmastery.com/how-to-configure-the-number-of-layers-and-nodes-in-a-neural-network/"
      ]
    },
    {
      "cell_type": "markdown",
      "metadata": {
        "id": "D0HVDAgLuu-7",
        "colab_type": "text"
      },
      "source": [
        "## Challenge\n",
        "You will be expected to tune several hyperparameters in today's module project. "
      ]
    },
    {
      "cell_type": "markdown",
      "metadata": {
        "id": "8dRzkRBCuu-8",
        "colab_type": "text"
      },
      "source": [
        "# Experiment Tracking Framework (Learn)\n",
        "<a id=\"p2\"></a>"
      ]
    },
    {
      "cell_type": "markdown",
      "metadata": {
        "id": "QxbbzJARuu-8",
        "colab_type": "text"
      },
      "source": [
        "## Overview\n",
        "\n",
        "You will notice quickly that managing the results of all the experiments you are running becomes challenging. Which set of parameters did the best? Are my results today different than my results yesterday? Although we use Ipython Notebooks to work, the format is not well suited to logging experimental results. Enter experiment tracking frameworks like [Comet.ml](https://comet.ml) and [Weights and Biases](https://wandb.ai/).\n",
        "\n",
        "Those tools will help you track your experiments, store the results, and the code associated with those experiments. Experimental results can also be readily visualized to see changes in performance across any metric you care about. Data is sent to the tool as each epoch is completed, so you can also see if your model is converging. Let's check out Weights & Biases today. "
      ]
    },
    {
      "cell_type": "markdown",
      "metadata": {
        "id": "fdaSTp1iuu-9",
        "colab_type": "text"
      },
      "source": [
        "## Follow Along\n",
        "\n",
        "Make sure you login into `wandb` in the terminal before running the next cell. "
      ]
    },
    {
      "cell_type": "code",
      "metadata": {
        "id": "juKVt2TSECrC",
        "colab_type": "code",
        "colab": {
          "base_uri": "https://localhost:8080/",
          "height": 442
        },
        "outputId": "d99507d3-0a28-428b-ebad-fd880d30d47b"
      },
      "source": [
        "!pip install wandb"
      ],
      "execution_count": 7,
      "outputs": [
        {
          "output_type": "stream",
          "text": [
            "Requirement already satisfied: wandb in /usr/local/lib/python3.6/dist-packages (0.8.32)\n",
            "Requirement already satisfied: configparser>=3.8.1 in /usr/local/lib/python3.6/dist-packages (from wandb) (5.0.0)\n",
            "Requirement already satisfied: watchdog>=0.8.3 in /usr/local/lib/python3.6/dist-packages (from wandb) (0.10.2)\n",
            "Requirement already satisfied: docker-pycreds>=0.4.0 in /usr/local/lib/python3.6/dist-packages (from wandb) (0.4.0)\n",
            "Requirement already satisfied: nvidia-ml-py3>=7.352.0 in /usr/local/lib/python3.6/dist-packages (from wandb) (7.352.0)\n",
            "Requirement already satisfied: requests>=2.0.0 in /usr/local/lib/python3.6/dist-packages (from wandb) (2.21.0)\n",
            "Requirement already satisfied: python-dateutil>=2.6.1 in /usr/local/lib/python3.6/dist-packages (from wandb) (2.8.1)\n",
            "Requirement already satisfied: six>=1.10.0 in /usr/local/lib/python3.6/dist-packages (from wandb) (1.12.0)\n",
            "Requirement already satisfied: GitPython>=1.0.0 in /usr/local/lib/python3.6/dist-packages (from wandb) (3.1.1)\n",
            "Requirement already satisfied: psutil>=5.0.0 in /usr/local/lib/python3.6/dist-packages (from wandb) (5.4.8)\n",
            "Requirement already satisfied: subprocess32>=3.5.3 in /usr/local/lib/python3.6/dist-packages (from wandb) (3.5.4)\n",
            "Requirement already satisfied: shortuuid>=0.5.0 in /usr/local/lib/python3.6/dist-packages (from wandb) (1.0.1)\n",
            "Requirement already satisfied: Click>=7.0 in /usr/local/lib/python3.6/dist-packages (from wandb) (7.1.1)\n",
            "Requirement already satisfied: gql==0.2.0 in /usr/local/lib/python3.6/dist-packages (from wandb) (0.2.0)\n",
            "Requirement already satisfied: PyYAML>=3.10 in /usr/local/lib/python3.6/dist-packages (from wandb) (3.13)\n",
            "Requirement already satisfied: sentry-sdk>=0.4.0 in /usr/local/lib/python3.6/dist-packages (from wandb) (0.14.3)\n",
            "Requirement already satisfied: pathtools>=0.1.1 in /usr/local/lib/python3.6/dist-packages (from watchdog>=0.8.3->wandb) (0.1.2)\n",
            "Requirement already satisfied: urllib3<1.25,>=1.21.1 in /usr/local/lib/python3.6/dist-packages (from requests>=2.0.0->wandb) (1.24.3)\n",
            "Requirement already satisfied: idna<2.9,>=2.5 in /usr/local/lib/python3.6/dist-packages (from requests>=2.0.0->wandb) (2.8)\n",
            "Requirement already satisfied: chardet<3.1.0,>=3.0.2 in /usr/local/lib/python3.6/dist-packages (from requests>=2.0.0->wandb) (3.0.4)\n",
            "Requirement already satisfied: certifi>=2017.4.17 in /usr/local/lib/python3.6/dist-packages (from requests>=2.0.0->wandb) (2020.4.5.1)\n",
            "Requirement already satisfied: gitdb<5,>=4.0.1 in /usr/local/lib/python3.6/dist-packages (from GitPython>=1.0.0->wandb) (4.0.4)\n",
            "Requirement already satisfied: graphql-core<2,>=0.5.0 in /usr/local/lib/python3.6/dist-packages (from gql==0.2.0->wandb) (1.1)\n",
            "Requirement already satisfied: promise<3,>=2.0 in /usr/local/lib/python3.6/dist-packages (from gql==0.2.0->wandb) (2.3)\n",
            "Requirement already satisfied: smmap<4,>=3.0.1 in /usr/local/lib/python3.6/dist-packages (from gitdb<5,>=4.0.1->GitPython>=1.0.0->wandb) (3.0.2)\n"
          ],
          "name": "stdout"
        }
      ]
    },
    {
      "cell_type": "code",
      "metadata": {
        "id": "M7MwdLBiEMBw",
        "colab_type": "code",
        "colab": {
          "base_uri": "https://localhost:8080/",
          "height": 51
        },
        "outputId": "0f88dc13-0ed6-4698-b6f9-26a9cc671a0c"
      },
      "source": [
        "!wandb login 0aee30442dfcff56fa89169bda6ee83e31706a28"
      ],
      "execution_count": 8,
      "outputs": [
        {
          "output_type": "stream",
          "text": [
            "\u001b[34m\u001b[1mwandb\u001b[0m: Appending key for api.wandb.ai to your netrc file: /root/.netrc\n",
            "\u001b[32mSuccessfully logged in to Weights & Biases!\u001b[0m\n"
          ],
          "name": "stdout"
        }
      ]
    },
    {
      "cell_type": "code",
      "metadata": {
        "id": "u44UBlR2uu-9",
        "colab_type": "code",
        "colab": {}
      },
      "source": [
        "import wandb\n",
        "from wandb.keras import WandbCallback\n",
        "\n",
        "wandb_group = \"ds8\"\n",
        "wandb_project = \"ds12_inclass\""
      ],
      "execution_count": 0,
      "outputs": []
    },
    {
      "cell_type": "code",
      "metadata": {
        "colab_type": "code",
        "id": "cxkRglDPuu_C",
        "colab": {
          "base_uri": "https://localhost:8080/",
          "height": 1000
        },
        "outputId": "6de8d64f-657c-41f6-cc7b-147458d67513"
      },
      "source": [
        "wandb.init(project=wandb_project, entity=wandb_group) #Initializes and Experiment\n",
        "\n",
        "# Important Hyperparameters\n",
        "X =  x_train\n",
        "y =  y_train\n",
        "\n",
        "inputs = X.shape[1]\n",
        "wandb.config.epochs = 50\n",
        "wandb.config.batch_size = 32\n",
        "wandb.config.optimizer = 'adam'\n",
        "wandb.config.learning_rate = .01\n",
        "\n",
        "# Create Model\n",
        "model = Sequential()\n",
        "model.add(Dense(64, activation='relu', input_shape=(inputs,)))\n",
        "model.add(Dense(64, activation='relu'))\n",
        "model.add(Dense(64, activation='relu'))\n",
        "model.add(Dense(1))\n",
        "# Compile Model\n",
        "model.compile(optimizer=wandb.config.optimizer, loss='mse', metrics=['mae'])\n",
        "\n",
        "# Fit Model\n",
        "model.fit(X, y, \n",
        "          validation_split=0.33, \n",
        "          epochs=wandb.config.epochs, \n",
        "          batch_size=wandb.config.batch_size, \n",
        "          callbacks=[WandbCallback()]\n",
        "         )"
      ],
      "execution_count": 12,
      "outputs": [
        {
          "output_type": "display_data",
          "data": {
            "text/html": [
              "\n",
              "                Logging results to <a href=\"https://wandb.com\" target=\"_blank\">Weights & Biases</a> <a href=\"https://docs.wandb.com/integrations/jupyter.html\" target=\"_blank\">(Documentation)</a>.<br/>\n",
              "                Project page: <a href=\"https://app.wandb.ai/ds8/ds12_inclass\" target=\"_blank\">https://app.wandb.ai/ds8/ds12_inclass</a><br/>\n",
              "                Run page: <a href=\"https://app.wandb.ai/ds8/ds12_inclass/runs/3b0mu3ys\" target=\"_blank\">https://app.wandb.ai/ds8/ds12_inclass/runs/3b0mu3ys</a><br/>\n",
              "            "
            ],
            "text/plain": [
              "<IPython.core.display.HTML object>"
            ]
          },
          "metadata": {
            "tags": []
          }
        },
        {
          "output_type": "stream",
          "text": [
            "Epoch 1/50\n",
            "9/9 [==============================] - 0s 15ms/step - loss: 538.5004 - mae: 21.2695 - val_loss: 559.3556 - val_mae: 22.1901\n",
            "Epoch 2/50\n",
            "9/9 [==============================] - 0s 9ms/step - loss: 474.5096 - mae: 20.0493 - val_loss: 496.0931 - val_mae: 20.6874\n",
            "Epoch 3/50\n",
            "9/9 [==============================] - 0s 9ms/step - loss: 403.7985 - mae: 18.0942 - val_loss: 399.1710 - val_mae: 18.1363\n",
            "Epoch 4/50\n",
            "9/9 [==============================] - 0s 11ms/step - loss: 312.3813 - mae: 14.9229 - val_loss: 262.7667 - val_mae: 14.3055\n",
            "Epoch 5/50\n",
            "9/9 [==============================] - 0s 10ms/step - loss: 167.8705 - mae: 10.7939 - val_loss: 123.9575 - val_mae: 9.2221\n",
            "Epoch 6/50\n",
            "9/9 [==============================] - 0s 9ms/step - loss: 69.1739 - mae: 6.7610 - val_loss: 65.3671 - val_mae: 5.9979\n",
            "Epoch 7/50\n",
            "9/9 [==============================] - 0s 11ms/step - loss: 44.4554 - mae: 5.0281 - val_loss: 56.6027 - val_mae: 5.3341\n",
            "Epoch 8/50\n",
            "9/9 [==============================] - 0s 10ms/step - loss: 32.3006 - mae: 4.1206 - val_loss: 41.1675 - val_mae: 4.5115\n",
            "Epoch 9/50\n",
            "9/9 [==============================] - 0s 10ms/step - loss: 22.9520 - mae: 3.5495 - val_loss: 32.5019 - val_mae: 3.9767\n",
            "Epoch 10/50\n",
            "9/9 [==============================] - 0s 9ms/step - loss: 18.3058 - mae: 3.1797 - val_loss: 25.9735 - val_mae: 3.5159\n",
            "Epoch 11/50\n",
            "9/9 [==============================] - 0s 9ms/step - loss: 17.1731 - mae: 3.0340 - val_loss: 23.1858 - val_mae: 3.3483\n",
            "Epoch 12/50\n",
            "9/9 [==============================] - 0s 9ms/step - loss: 14.6409 - mae: 2.8790 - val_loss: 22.0199 - val_mae: 3.2109\n",
            "Epoch 13/50\n",
            "9/9 [==============================] - 0s 10ms/step - loss: 13.6938 - mae: 2.7040 - val_loss: 21.5959 - val_mae: 3.1750\n",
            "Epoch 14/50\n",
            "9/9 [==============================] - 0s 9ms/step - loss: 12.8031 - mae: 2.6489 - val_loss: 20.8606 - val_mae: 3.1503\n",
            "Epoch 15/50\n",
            "9/9 [==============================] - 0s 11ms/step - loss: 14.2018 - mae: 2.5993 - val_loss: 20.3823 - val_mae: 3.0955\n",
            "Epoch 16/50\n",
            "9/9 [==============================] - 0s 10ms/step - loss: 11.6849 - mae: 2.5716 - val_loss: 19.8155 - val_mae: 3.1045\n",
            "Epoch 17/50\n",
            "9/9 [==============================] - 0s 10ms/step - loss: 11.6234 - mae: 2.5464 - val_loss: 19.5870 - val_mae: 3.0715\n",
            "Epoch 18/50\n",
            "9/9 [==============================] - 0s 6ms/step - loss: 11.1145 - mae: 2.4842 - val_loss: 19.7781 - val_mae: 3.0823\n",
            "Epoch 19/50\n",
            "9/9 [==============================] - 0s 10ms/step - loss: 10.5769 - mae: 2.4274 - val_loss: 19.0933 - val_mae: 3.0476\n",
            "Epoch 20/50\n",
            "9/9 [==============================] - 0s 10ms/step - loss: 10.3108 - mae: 2.4066 - val_loss: 18.5990 - val_mae: 3.0101\n",
            "Epoch 21/50\n",
            "9/9 [==============================] - 0s 10ms/step - loss: 10.2561 - mae: 2.4002 - val_loss: 17.9347 - val_mae: 2.9876\n",
            "Epoch 22/50\n",
            "9/9 [==============================] - 0s 10ms/step - loss: 9.7347 - mae: 2.3653 - val_loss: 17.9068 - val_mae: 2.9661\n",
            "Epoch 23/50\n",
            "9/9 [==============================] - 0s 9ms/step - loss: 9.7781 - mae: 2.3318 - val_loss: 17.4981 - val_mae: 2.9550\n",
            "Epoch 24/50\n",
            "9/9 [==============================] - 0s 6ms/step - loss: 9.3679 - mae: 2.2970 - val_loss: 17.5157 - val_mae: 2.9543\n",
            "Epoch 25/50\n",
            "9/9 [==============================] - 0s 9ms/step - loss: 8.9449 - mae: 2.2731 - val_loss: 17.0826 - val_mae: 2.9285\n",
            "Epoch 26/50\n",
            "9/9 [==============================] - 0s 9ms/step - loss: 9.3083 - mae: 2.2940 - val_loss: 16.6880 - val_mae: 2.9206\n",
            "Epoch 27/50\n",
            "9/9 [==============================] - 0s 7ms/step - loss: 8.8547 - mae: 2.2434 - val_loss: 16.7912 - val_mae: 2.9290\n",
            "Epoch 28/50\n",
            "9/9 [==============================] - 0s 9ms/step - loss: 8.6243 - mae: 2.2265 - val_loss: 16.6277 - val_mae: 2.9208\n",
            "Epoch 29/50\n",
            "9/9 [==============================] - 0s 9ms/step - loss: 8.5263 - mae: 2.2121 - val_loss: 16.3773 - val_mae: 2.9065\n",
            "Epoch 30/50\n",
            "9/9 [==============================] - 0s 9ms/step - loss: 8.6545 - mae: 2.1927 - val_loss: 16.0785 - val_mae: 2.8771\n",
            "Epoch 31/50\n",
            "9/9 [==============================] - 0s 9ms/step - loss: 8.4320 - mae: 2.1985 - val_loss: 15.8210 - val_mae: 2.8685\n",
            "Epoch 32/50\n",
            "9/9 [==============================] - 0s 6ms/step - loss: 8.0200 - mae: 2.1407 - val_loss: 15.8998 - val_mae: 2.8719\n",
            "Epoch 33/50\n",
            "9/9 [==============================] - 0s 9ms/step - loss: 8.1261 - mae: 2.1557 - val_loss: 15.5560 - val_mae: 2.8534\n",
            "Epoch 34/50\n",
            "9/9 [==============================] - 0s 6ms/step - loss: 7.6759 - mae: 2.1116 - val_loss: 15.9577 - val_mae: 2.8898\n",
            "Epoch 35/50\n",
            "9/9 [==============================] - 0s 10ms/step - loss: 7.6347 - mae: 2.0952 - val_loss: 15.4425 - val_mae: 2.8418\n",
            "Epoch 36/50\n",
            "9/9 [==============================] - 0s 10ms/step - loss: 7.8621 - mae: 2.0939 - val_loss: 15.3329 - val_mae: 2.8346\n",
            "Epoch 37/50\n",
            "9/9 [==============================] - 0s 10ms/step - loss: 7.5370 - mae: 2.0813 - val_loss: 15.2902 - val_mae: 2.8319\n",
            "Epoch 38/50\n",
            "9/9 [==============================] - 0s 11ms/step - loss: 7.7514 - mae: 2.0992 - val_loss: 15.1982 - val_mae: 2.8313\n",
            "Epoch 39/50\n",
            "9/9 [==============================] - 0s 7ms/step - loss: 7.4039 - mae: 2.0460 - val_loss: 15.3823 - val_mae: 2.8547\n",
            "Epoch 40/50\n",
            "9/9 [==============================] - 0s 9ms/step - loss: 7.0410 - mae: 2.0278 - val_loss: 15.1339 - val_mae: 2.8214\n",
            "Epoch 41/50\n",
            "9/9 [==============================] - 0s 9ms/step - loss: 7.1354 - mae: 2.0368 - val_loss: 14.9616 - val_mae: 2.8074\n",
            "Epoch 42/50\n",
            "9/9 [==============================] - 0s 9ms/step - loss: 7.5489 - mae: 2.0170 - val_loss: 14.7331 - val_mae: 2.7642\n",
            "Epoch 43/50\n",
            "9/9 [==============================] - 0s 10ms/step - loss: 6.8600 - mae: 2.0073 - val_loss: 14.6657 - val_mae: 2.7758\n",
            "Epoch 44/50\n",
            "9/9 [==============================] - 0s 6ms/step - loss: 6.9488 - mae: 1.9681 - val_loss: 14.9577 - val_mae: 2.8190\n",
            "Epoch 45/50\n",
            "9/9 [==============================] - 0s 9ms/step - loss: 6.8103 - mae: 1.9408 - val_loss: 14.6092 - val_mae: 2.7772\n",
            "Epoch 46/50\n",
            "9/9 [==============================] - 0s 9ms/step - loss: 6.6780 - mae: 1.9783 - val_loss: 14.5042 - val_mae: 2.7594\n",
            "Epoch 47/50\n",
            "9/9 [==============================] - 0s 6ms/step - loss: 6.3538 - mae: 1.9180 - val_loss: 14.7372 - val_mae: 2.7756\n",
            "Epoch 48/50\n",
            "9/9 [==============================] - 0s 6ms/step - loss: 6.4118 - mae: 1.9063 - val_loss: 14.5085 - val_mae: 2.7534\n",
            "Epoch 49/50\n",
            "9/9 [==============================] - 0s 9ms/step - loss: 6.5342 - mae: 1.9117 - val_loss: 14.3112 - val_mae: 2.7341\n",
            "Epoch 50/50\n",
            "9/9 [==============================] - 0s 6ms/step - loss: 6.5926 - mae: 1.9040 - val_loss: 14.6267 - val_mae: 2.7794\n"
          ],
          "name": "stdout"
        },
        {
          "output_type": "execute_result",
          "data": {
            "text/plain": [
              "<tensorflow.python.keras.callbacks.History at 0x7f2ec664b828>"
            ]
          },
          "metadata": {
            "tags": []
          },
          "execution_count": 12
        }
      ]
    },
    {
      "cell_type": "markdown",
      "metadata": {
        "id": "euJD7mOnuu_G",
        "colab_type": "text"
      },
      "source": [
        "### Your Turn\n",
        "\n",
        "Pick a few hyparameters that we *have not* tuned. Using the same code above, try changing a few parameters you're interested in and submitting the results to weights & biases. :) "
      ]
    },
    {
      "cell_type": "code",
      "metadata": {
        "id": "h403WGbnuu_G",
        "colab_type": "code",
        "colab": {
          "base_uri": "https://localhost:8080/",
          "height": 1000
        },
        "outputId": "903d0f84-430b-4e9b-a94d-29a34cce3a7e"
      },
      "source": [
        "wandb.init(project=wandb_project, entity=wandb_group) #Initializes and Experiment\n",
        "\n",
        "wandb.config.epochs = 200\n",
        "wandb.config.batch_size = 32\n",
        "\n",
        "\n",
        "# Important Hyperparameters\n",
        "X =  x_train\n",
        "y =  y_train\n",
        "\n",
        "inputs = X.shape[1]\n",
        "wandb.config.epochs = 200\n",
        "wandb.config.batch_size = 32\n",
        "wandb.config.optimizer = 'adam'\n",
        "\n",
        "# Create Model\n",
        "model = Sequential()\n",
        "model.add(Dense(128, activation='relu', input_shape=(inputs,)))\n",
        "model.add(Dense(128, activation='relu'))\n",
        "model.add(Dense(128, activation='relu'))\n",
        "model.add(Dense(1))\n",
        "# Compile Model\n",
        "model.compile(optimizer=wandb.config.optimizer, loss='mse', metrics=['mae'])\n",
        "\n",
        "# Fit Model\n",
        "model.fit(X, y, \n",
        "          validation_split=0.33, \n",
        "          epochs=wandb.config.epochs, \n",
        "          batch_size=wandb.config.batch_size, \n",
        "          callbacks=[WandbCallback()]\n",
        "         )"
      ],
      "execution_count": 11,
      "outputs": [
        {
          "output_type": "display_data",
          "data": {
            "text/html": [
              "\n",
              "                Logging results to <a href=\"https://wandb.com\" target=\"_blank\">Weights & Biases</a> <a href=\"https://docs.wandb.com/integrations/jupyter.html\" target=\"_blank\">(Documentation)</a>.<br/>\n",
              "                Project page: <a href=\"https://app.wandb.ai/ds8/ds12_inclass\" target=\"_blank\">https://app.wandb.ai/ds8/ds12_inclass</a><br/>\n",
              "                Run page: <a href=\"https://app.wandb.ai/ds8/ds12_inclass/runs/3w0r4olm\" target=\"_blank\">https://app.wandb.ai/ds8/ds12_inclass/runs/3w0r4olm</a><br/>\n",
              "            "
            ],
            "text/plain": [
              "<IPython.core.display.HTML object>"
            ]
          },
          "metadata": {
            "tags": []
          }
        },
        {
          "output_type": "stream",
          "text": [
            "Epoch 1/200\n",
            "9/9 [==============================] - 0s 16ms/step - loss: 526.0942 - mae: 21.5038 - val_loss: 553.9442 - val_mae: 22.0148\n",
            "Epoch 2/200\n",
            "9/9 [==============================] - 0s 12ms/step - loss: 457.2540 - mae: 19.4289 - val_loss: 430.5694 - val_mae: 18.9487\n",
            "Epoch 3/200\n",
            "9/9 [==============================] - 0s 9ms/step - loss: 304.3595 - mae: 15.1403 - val_loss: 220.6674 - val_mae: 12.9736\n",
            "Epoch 4/200\n",
            "9/9 [==============================] - 0s 9ms/step - loss: 128.5432 - mae: 9.3390 - val_loss: 96.1843 - val_mae: 7.9779\n",
            "Epoch 5/200\n",
            "9/9 [==============================] - 0s 10ms/step - loss: 75.1074 - mae: 6.4936 - val_loss: 71.8913 - val_mae: 6.5969\n",
            "Epoch 6/200\n",
            "9/9 [==============================] - 0s 10ms/step - loss: 40.2658 - mae: 4.6763 - val_loss: 47.2627 - val_mae: 5.2549\n",
            "Epoch 7/200\n",
            "9/9 [==============================] - 0s 9ms/step - loss: 29.8800 - mae: 4.1238 - val_loss: 33.1018 - val_mae: 4.1432\n",
            "Epoch 8/200\n",
            "9/9 [==============================] - 0s 9ms/step - loss: 20.9854 - mae: 3.3059 - val_loss: 25.7693 - val_mae: 3.7000\n",
            "Epoch 9/200\n",
            "9/9 [==============================] - 0s 9ms/step - loss: 17.3629 - mae: 3.1181 - val_loss: 22.6879 - val_mae: 3.3704\n",
            "Epoch 10/200\n",
            "9/9 [==============================] - 0s 10ms/step - loss: 16.2435 - mae: 2.9512 - val_loss: 22.5589 - val_mae: 3.2269\n",
            "Epoch 11/200\n",
            "9/9 [==============================] - 0s 10ms/step - loss: 14.5179 - mae: 2.7954 - val_loss: 21.5771 - val_mae: 3.2107\n",
            "Epoch 12/200\n",
            "9/9 [==============================] - 0s 11ms/step - loss: 13.7397 - mae: 2.7404 - val_loss: 20.7679 - val_mae: 3.0949\n",
            "Epoch 13/200\n",
            "9/9 [==============================] - 0s 10ms/step - loss: 12.4434 - mae: 2.6571 - val_loss: 19.4501 - val_mae: 3.0583\n",
            "Epoch 14/200\n",
            "9/9 [==============================] - 0s 10ms/step - loss: 11.8470 - mae: 2.6173 - val_loss: 19.2011 - val_mae: 2.9857\n",
            "Epoch 15/200\n",
            "9/9 [==============================] - 0s 10ms/step - loss: 11.2260 - mae: 2.5323 - val_loss: 18.2457 - val_mae: 2.9438\n",
            "Epoch 16/200\n",
            "9/9 [==============================] - 0s 10ms/step - loss: 10.7928 - mae: 2.5262 - val_loss: 17.5227 - val_mae: 2.9182\n",
            "Epoch 17/200\n",
            "9/9 [==============================] - 0s 7ms/step - loss: 10.1537 - mae: 2.4384 - val_loss: 17.8276 - val_mae: 2.9075\n",
            "Epoch 18/200\n",
            "9/9 [==============================] - 0s 9ms/step - loss: 9.8591 - mae: 2.3829 - val_loss: 17.4898 - val_mae: 2.9024\n",
            "Epoch 19/200\n",
            "9/9 [==============================] - 0s 9ms/step - loss: 9.6167 - mae: 2.3517 - val_loss: 16.4666 - val_mae: 2.8593\n",
            "Epoch 20/200\n",
            "9/9 [==============================] - 0s 9ms/step - loss: 9.1084 - mae: 2.3004 - val_loss: 16.0703 - val_mae: 2.7981\n",
            "Epoch 21/200\n",
            "9/9 [==============================] - 0s 9ms/step - loss: 9.3083 - mae: 2.2427 - val_loss: 15.8297 - val_mae: 2.7527\n",
            "Epoch 22/200\n",
            "9/9 [==============================] - 0s 11ms/step - loss: 8.7787 - mae: 2.1919 - val_loss: 15.6651 - val_mae: 2.7599\n",
            "Epoch 23/200\n",
            "9/9 [==============================] - 0s 10ms/step - loss: 8.4295 - mae: 2.2156 - val_loss: 15.2519 - val_mae: 2.7918\n",
            "Epoch 24/200\n",
            "9/9 [==============================] - 0s 8ms/step - loss: 7.9780 - mae: 2.1477 - val_loss: 15.3782 - val_mae: 2.7957\n",
            "Epoch 25/200\n",
            "9/9 [==============================] - 0s 9ms/step - loss: 8.2039 - mae: 2.1270 - val_loss: 15.0278 - val_mae: 2.7658\n",
            "Epoch 26/200\n",
            "9/9 [==============================] - 0s 9ms/step - loss: 7.9664 - mae: 2.1090 - val_loss: 14.9743 - val_mae: 2.7242\n",
            "Epoch 27/200\n",
            "9/9 [==============================] - 0s 9ms/step - loss: 7.9723 - mae: 2.1712 - val_loss: 14.5607 - val_mae: 2.6921\n",
            "Epoch 28/200\n",
            "9/9 [==============================] - 0s 10ms/step - loss: 7.6027 - mae: 2.1111 - val_loss: 14.5027 - val_mae: 2.6863\n",
            "Epoch 29/200\n",
            "9/9 [==============================] - 0s 10ms/step - loss: 7.5209 - mae: 2.0542 - val_loss: 14.4466 - val_mae: 2.7025\n",
            "Epoch 30/200\n",
            "9/9 [==============================] - 0s 10ms/step - loss: 8.1045 - mae: 2.0068 - val_loss: 14.3666 - val_mae: 2.7049\n",
            "Epoch 31/200\n",
            "9/9 [==============================] - 0s 10ms/step - loss: 7.1674 - mae: 2.0364 - val_loss: 14.0807 - val_mae: 2.6951\n",
            "Epoch 32/200\n",
            "9/9 [==============================] - 0s 7ms/step - loss: 6.7492 - mae: 1.9772 - val_loss: 14.1337 - val_mae: 2.6844\n",
            "Epoch 33/200\n",
            "9/9 [==============================] - 0s 10ms/step - loss: 6.9431 - mae: 1.9649 - val_loss: 13.8420 - val_mae: 2.6727\n",
            "Epoch 34/200\n",
            "9/9 [==============================] - 0s 10ms/step - loss: 6.6891 - mae: 1.9492 - val_loss: 13.6526 - val_mae: 2.6432\n",
            "Epoch 35/200\n",
            "9/9 [==============================] - 0s 11ms/step - loss: 6.8269 - mae: 1.9037 - val_loss: 13.6471 - val_mae: 2.6200\n",
            "Epoch 36/200\n",
            "9/9 [==============================] - 0s 10ms/step - loss: 6.5420 - mae: 1.9012 - val_loss: 13.5310 - val_mae: 2.6535\n",
            "Epoch 37/200\n",
            "9/9 [==============================] - 0s 8ms/step - loss: 6.3232 - mae: 1.8665 - val_loss: 13.6666 - val_mae: 2.6299\n",
            "Epoch 38/200\n",
            "9/9 [==============================] - 0s 10ms/step - loss: 6.1282 - mae: 1.8887 - val_loss: 13.2338 - val_mae: 2.6025\n",
            "Epoch 39/200\n",
            "9/9 [==============================] - 0s 7ms/step - loss: 6.1810 - mae: 1.8441 - val_loss: 13.5562 - val_mae: 2.6301\n",
            "Epoch 40/200\n",
            "9/9 [==============================] - 0s 10ms/step - loss: 6.0528 - mae: 1.8147 - val_loss: 13.0815 - val_mae: 2.5909\n",
            "Epoch 41/200\n",
            "9/9 [==============================] - 0s 7ms/step - loss: 6.0034 - mae: 1.8580 - val_loss: 13.1853 - val_mae: 2.6192\n",
            "Epoch 42/200\n",
            "9/9 [==============================] - 0s 7ms/step - loss: 5.7305 - mae: 1.7870 - val_loss: 13.0921 - val_mae: 2.5771\n",
            "Epoch 43/200\n",
            "9/9 [==============================] - 0s 10ms/step - loss: 5.9681 - mae: 1.8394 - val_loss: 12.7961 - val_mae: 2.5396\n",
            "Epoch 44/200\n",
            "9/9 [==============================] - 0s 7ms/step - loss: 5.6120 - mae: 1.7592 - val_loss: 13.2947 - val_mae: 2.6012\n",
            "Epoch 45/200\n",
            "9/9 [==============================] - 0s 7ms/step - loss: 5.3766 - mae: 1.7405 - val_loss: 13.0079 - val_mae: 2.5830\n",
            "Epoch 46/200\n",
            "9/9 [==============================] - 0s 8ms/step - loss: 5.7768 - mae: 1.8134 - val_loss: 13.1032 - val_mae: 2.6051\n",
            "Epoch 47/200\n",
            "9/9 [==============================] - 0s 7ms/step - loss: 5.4831 - mae: 1.7449 - val_loss: 13.2159 - val_mae: 2.5967\n",
            "Epoch 48/200\n",
            "9/9 [==============================] - 0s 9ms/step - loss: 5.9283 - mae: 1.6902 - val_loss: 12.6079 - val_mae: 2.5246\n",
            "Epoch 49/200\n",
            "9/9 [==============================] - 0s 9ms/step - loss: 5.2020 - mae: 1.7190 - val_loss: 12.5965 - val_mae: 2.5480\n",
            "Epoch 50/200\n",
            "9/9 [==============================] - 0s 7ms/step - loss: 5.2158 - mae: 1.6860 - val_loss: 12.7836 - val_mae: 2.5598\n",
            "Epoch 51/200\n",
            "9/9 [==============================] - 0s 6ms/step - loss: 4.8593 - mae: 1.6691 - val_loss: 12.6365 - val_mae: 2.5279\n",
            "Epoch 52/200\n",
            "9/9 [==============================] - 0s 10ms/step - loss: 4.8204 - mae: 1.6387 - val_loss: 12.5463 - val_mae: 2.5217\n",
            "Epoch 53/200\n",
            "9/9 [==============================] - 0s 8ms/step - loss: 4.9885 - mae: 1.6731 - val_loss: 12.8416 - val_mae: 2.5693\n",
            "Epoch 54/200\n",
            "9/9 [==============================] - 0s 7ms/step - loss: 4.8520 - mae: 1.6598 - val_loss: 12.8023 - val_mae: 2.5500\n",
            "Epoch 55/200\n",
            "9/9 [==============================] - 0s 10ms/step - loss: 4.7485 - mae: 1.6287 - val_loss: 12.5331 - val_mae: 2.5258\n",
            "Epoch 56/200\n",
            "9/9 [==============================] - 0s 7ms/step - loss: 4.6788 - mae: 1.6039 - val_loss: 12.6052 - val_mae: 2.5251\n",
            "Epoch 57/200\n",
            "9/9 [==============================] - 0s 10ms/step - loss: 4.9311 - mae: 1.5924 - val_loss: 12.4348 - val_mae: 2.5196\n",
            "Epoch 58/200\n",
            "9/9 [==============================] - 0s 7ms/step - loss: 4.6541 - mae: 1.5774 - val_loss: 12.5501 - val_mae: 2.5273\n",
            "Epoch 59/200\n",
            "9/9 [==============================] - 0s 11ms/step - loss: 4.9691 - mae: 1.6036 - val_loss: 12.3120 - val_mae: 2.5159\n",
            "Epoch 60/200\n",
            "9/9 [==============================] - 0s 11ms/step - loss: 4.2909 - mae: 1.5617 - val_loss: 12.2645 - val_mae: 2.5067\n",
            "Epoch 61/200\n",
            "9/9 [==============================] - 0s 6ms/step - loss: 4.5465 - mae: 1.5690 - val_loss: 12.5176 - val_mae: 2.5402\n",
            "Epoch 62/200\n",
            "9/9 [==============================] - 0s 7ms/step - loss: 4.3984 - mae: 1.5243 - val_loss: 12.5610 - val_mae: 2.5912\n",
            "Epoch 63/200\n",
            "9/9 [==============================] - 0s 7ms/step - loss: 4.4464 - mae: 1.5906 - val_loss: 12.4929 - val_mae: 2.4908\n",
            "Epoch 64/200\n",
            "9/9 [==============================] - 0s 7ms/step - loss: 4.3315 - mae: 1.5235 - val_loss: 12.3785 - val_mae: 2.4908\n",
            "Epoch 65/200\n",
            "9/9 [==============================] - 0s 7ms/step - loss: 4.3243 - mae: 1.5292 - val_loss: 12.6012 - val_mae: 2.5892\n",
            "Epoch 66/200\n",
            "9/9 [==============================] - 0s 7ms/step - loss: 4.1158 - mae: 1.5346 - val_loss: 12.9616 - val_mae: 2.5657\n",
            "Epoch 67/200\n",
            "9/9 [==============================] - 0s 9ms/step - loss: 4.1284 - mae: 1.5022 - val_loss: 12.2483 - val_mae: 2.4806\n",
            "Epoch 68/200\n",
            "9/9 [==============================] - 0s 6ms/step - loss: 3.8598 - mae: 1.4755 - val_loss: 12.4130 - val_mae: 2.4871\n",
            "Epoch 69/200\n",
            "9/9 [==============================] - 0s 7ms/step - loss: 3.6878 - mae: 1.4421 - val_loss: 12.4736 - val_mae: 2.4975\n",
            "Epoch 70/200\n",
            "9/9 [==============================] - 0s 6ms/step - loss: 3.7080 - mae: 1.4266 - val_loss: 12.2905 - val_mae: 2.5312\n",
            "Epoch 71/200\n",
            "9/9 [==============================] - 0s 6ms/step - loss: 3.7357 - mae: 1.4497 - val_loss: 12.8430 - val_mae: 2.5333\n",
            "Epoch 72/200\n",
            "9/9 [==============================] - 0s 6ms/step - loss: 3.9325 - mae: 1.4129 - val_loss: 12.3930 - val_mae: 2.5437\n",
            "Epoch 73/200\n",
            "9/9 [==============================] - 0s 8ms/step - loss: 4.1704 - mae: 1.4210 - val_loss: 12.5719 - val_mae: 2.5478\n",
            "Epoch 74/200\n",
            "9/9 [==============================] - 0s 6ms/step - loss: 3.6457 - mae: 1.4501 - val_loss: 13.2060 - val_mae: 2.6044\n",
            "Epoch 75/200\n",
            "9/9 [==============================] - 0s 6ms/step - loss: 3.9838 - mae: 1.5129 - val_loss: 12.3063 - val_mae: 2.5127\n",
            "Epoch 76/200\n",
            "9/9 [==============================] - 0s 6ms/step - loss: 3.4761 - mae: 1.3900 - val_loss: 12.3033 - val_mae: 2.5056\n",
            "Epoch 77/200\n",
            "9/9 [==============================] - 0s 6ms/step - loss: 3.4029 - mae: 1.3995 - val_loss: 13.3440 - val_mae: 2.5831\n",
            "Epoch 78/200\n",
            "9/9 [==============================] - 0s 6ms/step - loss: 3.6052 - mae: 1.4040 - val_loss: 12.6092 - val_mae: 2.6219\n",
            "Epoch 79/200\n",
            "9/9 [==============================] - 0s 7ms/step - loss: 3.6526 - mae: 1.4026 - val_loss: 12.3416 - val_mae: 2.4703\n",
            "Epoch 80/200\n",
            "9/9 [==============================] - 0s 7ms/step - loss: 3.5715 - mae: 1.4239 - val_loss: 12.7656 - val_mae: 2.5021\n",
            "Epoch 81/200\n",
            "9/9 [==============================] - 0s 7ms/step - loss: 3.4755 - mae: 1.3968 - val_loss: 12.3393 - val_mae: 2.5061\n",
            "Epoch 82/200\n",
            "9/9 [==============================] - 0s 6ms/step - loss: 3.2788 - mae: 1.3517 - val_loss: 12.3287 - val_mae: 2.4975\n",
            "Epoch 83/200\n",
            "9/9 [==============================] - 0s 6ms/step - loss: 3.1607 - mae: 1.3329 - val_loss: 13.1334 - val_mae: 2.5718\n",
            "Epoch 84/200\n",
            "9/9 [==============================] - 0s 6ms/step - loss: 3.3979 - mae: 1.3887 - val_loss: 12.2788 - val_mae: 2.5147\n",
            "Epoch 85/200\n",
            "9/9 [==============================] - 0s 9ms/step - loss: 3.2083 - mae: 1.3696 - val_loss: 11.9857 - val_mae: 2.4906\n",
            "Epoch 86/200\n",
            "9/9 [==============================] - 0s 7ms/step - loss: 3.1854 - mae: 1.3447 - val_loss: 12.1494 - val_mae: 2.4944\n",
            "Epoch 87/200\n",
            "9/9 [==============================] - 0s 7ms/step - loss: 2.9403 - mae: 1.2811 - val_loss: 12.4049 - val_mae: 2.5110\n",
            "Epoch 88/200\n",
            "9/9 [==============================] - 0s 7ms/step - loss: 2.8901 - mae: 1.2941 - val_loss: 12.5024 - val_mae: 2.4914\n",
            "Epoch 89/200\n",
            "9/9 [==============================] - 0s 8ms/step - loss: 3.0463 - mae: 1.3023 - val_loss: 12.2688 - val_mae: 2.4748\n",
            "Epoch 90/200\n",
            "9/9 [==============================] - 0s 7ms/step - loss: 2.9592 - mae: 1.2758 - val_loss: 12.3047 - val_mae: 2.4816\n",
            "Epoch 91/200\n",
            "9/9 [==============================] - 0s 6ms/step - loss: 2.9574 - mae: 1.2345 - val_loss: 12.2744 - val_mae: 2.5343\n",
            "Epoch 92/200\n",
            "9/9 [==============================] - 0s 6ms/step - loss: 2.9760 - mae: 1.3115 - val_loss: 12.7355 - val_mae: 2.4957\n",
            "Epoch 93/200\n",
            "9/9 [==============================] - 0s 8ms/step - loss: 2.8033 - mae: 1.2512 - val_loss: 12.3155 - val_mae: 2.4906\n",
            "Epoch 94/200\n",
            "9/9 [==============================] - 0s 7ms/step - loss: 3.0553 - mae: 1.2621 - val_loss: 12.3997 - val_mae: 2.5510\n",
            "Epoch 95/200\n",
            "9/9 [==============================] - 0s 6ms/step - loss: 2.7779 - mae: 1.2509 - val_loss: 12.8216 - val_mae: 2.5402\n",
            "Epoch 96/200\n",
            "9/9 [==============================] - 0s 6ms/step - loss: 2.7222 - mae: 1.2283 - val_loss: 12.3818 - val_mae: 2.4772\n",
            "Epoch 97/200\n",
            "9/9 [==============================] - 0s 7ms/step - loss: 2.5830 - mae: 1.1995 - val_loss: 12.4235 - val_mae: 2.5237\n",
            "Epoch 98/200\n",
            "9/9 [==============================] - 0s 6ms/step - loss: 2.5029 - mae: 1.2003 - val_loss: 12.7452 - val_mae: 2.4997\n",
            "Epoch 99/200\n",
            "9/9 [==============================] - 0s 6ms/step - loss: 2.7345 - mae: 1.1704 - val_loss: 12.5055 - val_mae: 2.5107\n",
            "Epoch 100/200\n",
            "9/9 [==============================] - 0s 6ms/step - loss: 2.4796 - mae: 1.1969 - val_loss: 12.3351 - val_mae: 2.5352\n",
            "Epoch 101/200\n",
            "9/9 [==============================] - 0s 7ms/step - loss: 2.3188 - mae: 1.1590 - val_loss: 13.2817 - val_mae: 2.5771\n",
            "Epoch 102/200\n",
            "9/9 [==============================] - 0s 7ms/step - loss: 2.4879 - mae: 1.2092 - val_loss: 12.3895 - val_mae: 2.5700\n",
            "Epoch 103/200\n",
            "9/9 [==============================] - 0s 7ms/step - loss: 2.5183 - mae: 1.2095 - val_loss: 12.3388 - val_mae: 2.4582\n",
            "Epoch 104/200\n",
            "9/9 [==============================] - 0s 8ms/step - loss: 2.4493 - mae: 1.1779 - val_loss: 12.6905 - val_mae: 2.4950\n",
            "Epoch 105/200\n",
            "9/9 [==============================] - 0s 6ms/step - loss: 2.4895 - mae: 1.1883 - val_loss: 12.2788 - val_mae: 2.4905\n",
            "Epoch 106/200\n",
            "9/9 [==============================] - 0s 6ms/step - loss: 2.4583 - mae: 1.1646 - val_loss: 12.5109 - val_mae: 2.4656\n",
            "Epoch 107/200\n",
            "9/9 [==============================] - 0s 6ms/step - loss: 2.5052 - mae: 1.1443 - val_loss: 12.7778 - val_mae: 2.5414\n",
            "Epoch 108/200\n",
            "9/9 [==============================] - 0s 6ms/step - loss: 2.4418 - mae: 1.1589 - val_loss: 12.2587 - val_mae: 2.4448\n",
            "Epoch 109/200\n",
            "9/9 [==============================] - 0s 6ms/step - loss: 2.0875 - mae: 1.0721 - val_loss: 12.4018 - val_mae: 2.5188\n",
            "Epoch 110/200\n",
            "9/9 [==============================] - 0s 6ms/step - loss: 2.0943 - mae: 1.0743 - val_loss: 12.4396 - val_mae: 2.4731\n",
            "Epoch 111/200\n",
            "9/9 [==============================] - 0s 7ms/step - loss: 2.1894 - mae: 1.0923 - val_loss: 12.4869 - val_mae: 2.5126\n",
            "Epoch 112/200\n",
            "9/9 [==============================] - 0s 6ms/step - loss: 1.9646 - mae: 1.0513 - val_loss: 12.5018 - val_mae: 2.4821\n",
            "Epoch 113/200\n",
            "9/9 [==============================] - 0s 6ms/step - loss: 2.1113 - mae: 1.0814 - val_loss: 12.4642 - val_mae: 2.5237\n",
            "Epoch 114/200\n",
            "9/9 [==============================] - 0s 6ms/step - loss: 2.3816 - mae: 1.0788 - val_loss: 12.2759 - val_mae: 2.4813\n",
            "Epoch 115/200\n",
            "9/9 [==============================] - 0s 6ms/step - loss: 2.4978 - mae: 1.1576 - val_loss: 13.9519 - val_mae: 2.7032\n",
            "Epoch 116/200\n",
            "9/9 [==============================] - 0s 6ms/step - loss: 2.6578 - mae: 1.2128 - val_loss: 13.2010 - val_mae: 2.5524\n",
            "Epoch 117/200\n",
            "9/9 [==============================] - 0s 7ms/step - loss: 2.2933 - mae: 1.1735 - val_loss: 12.5026 - val_mae: 2.5605\n",
            "Epoch 118/200\n",
            "9/9 [==============================] - 0s 6ms/step - loss: 2.1430 - mae: 1.0790 - val_loss: 12.2975 - val_mae: 2.4878\n",
            "Epoch 119/200\n",
            "9/9 [==============================] - 0s 6ms/step - loss: 1.8915 - mae: 1.0325 - val_loss: 12.6333 - val_mae: 2.5121\n",
            "Epoch 120/200\n",
            "9/9 [==============================] - 0s 8ms/step - loss: 2.0231 - mae: 1.0111 - val_loss: 12.9493 - val_mae: 2.5324\n",
            "Epoch 121/200\n",
            "9/9 [==============================] - 0s 7ms/step - loss: 1.8943 - mae: 1.0520 - val_loss: 12.5726 - val_mae: 2.5732\n",
            "Epoch 122/200\n",
            "9/9 [==============================] - 0s 6ms/step - loss: 1.7702 - mae: 0.9742 - val_loss: 12.5083 - val_mae: 2.4982\n",
            "Epoch 123/200\n",
            "9/9 [==============================] - 0s 7ms/step - loss: 1.7208 - mae: 0.9654 - val_loss: 12.3085 - val_mae: 2.4988\n",
            "Epoch 124/200\n",
            "9/9 [==============================] - 0s 7ms/step - loss: 1.8243 - mae: 0.9987 - val_loss: 13.6931 - val_mae: 2.6437\n",
            "Epoch 125/200\n",
            "9/9 [==============================] - 0s 7ms/step - loss: 1.8612 - mae: 1.0197 - val_loss: 12.5221 - val_mae: 2.5232\n",
            "Epoch 126/200\n",
            "9/9 [==============================] - 0s 7ms/step - loss: 1.7722 - mae: 0.9848 - val_loss: 12.4738 - val_mae: 2.4979\n",
            "Epoch 127/200\n",
            "9/9 [==============================] - 0s 7ms/step - loss: 1.7157 - mae: 0.9412 - val_loss: 12.6592 - val_mae: 2.5329\n",
            "Epoch 128/200\n",
            "9/9 [==============================] - 0s 7ms/step - loss: 1.6770 - mae: 0.9443 - val_loss: 12.4572 - val_mae: 2.5305\n",
            "Epoch 129/200\n",
            "9/9 [==============================] - 0s 6ms/step - loss: 1.6512 - mae: 0.9383 - val_loss: 12.3844 - val_mae: 2.5498\n",
            "Epoch 130/200\n",
            "9/9 [==============================] - 0s 6ms/step - loss: 1.6299 - mae: 0.9296 - val_loss: 12.5638 - val_mae: 2.4819\n",
            "Epoch 131/200\n",
            "9/9 [==============================] - 0s 6ms/step - loss: 1.6701 - mae: 0.9176 - val_loss: 12.5958 - val_mae: 2.5301\n",
            "Epoch 132/200\n",
            "9/9 [==============================] - 0s 6ms/step - loss: 1.6090 - mae: 0.9218 - val_loss: 12.3255 - val_mae: 2.5482\n",
            "Epoch 133/200\n",
            "9/9 [==============================] - 0s 7ms/step - loss: 1.6614 - mae: 0.9594 - val_loss: 12.7300 - val_mae: 2.5253\n",
            "Epoch 134/200\n",
            "9/9 [==============================] - 0s 7ms/step - loss: 1.9380 - mae: 0.9835 - val_loss: 12.5601 - val_mae: 2.5434\n",
            "Epoch 135/200\n",
            "9/9 [==============================] - 0s 7ms/step - loss: 1.7566 - mae: 0.9539 - val_loss: 13.1121 - val_mae: 2.5930\n",
            "Epoch 136/200\n",
            "9/9 [==============================] - 0s 6ms/step - loss: 1.6771 - mae: 0.9623 - val_loss: 12.5482 - val_mae: 2.5703\n",
            "Epoch 137/200\n",
            "9/9 [==============================] - 0s 7ms/step - loss: 1.5324 - mae: 0.8885 - val_loss: 12.2830 - val_mae: 2.4696\n",
            "Epoch 138/200\n",
            "9/9 [==============================] - 0s 6ms/step - loss: 1.6807 - mae: 0.8987 - val_loss: 12.3275 - val_mae: 2.5168\n",
            "Epoch 139/200\n",
            "9/9 [==============================] - 0s 6ms/step - loss: 1.9379 - mae: 0.9294 - val_loss: 12.9048 - val_mae: 2.5304\n",
            "Epoch 140/200\n",
            "9/9 [==============================] - 0s 6ms/step - loss: 1.9187 - mae: 1.0101 - val_loss: 13.4948 - val_mae: 2.6313\n",
            "Epoch 141/200\n",
            "9/9 [==============================] - 0s 7ms/step - loss: 1.5928 - mae: 0.9197 - val_loss: 12.6795 - val_mae: 2.5205\n",
            "Epoch 142/200\n",
            "9/9 [==============================] - 0s 7ms/step - loss: 1.5369 - mae: 0.8925 - val_loss: 12.7593 - val_mae: 2.5472\n",
            "Epoch 143/200\n",
            "9/9 [==============================] - 0s 6ms/step - loss: 1.3287 - mae: 0.8606 - val_loss: 12.4325 - val_mae: 2.5302\n",
            "Epoch 144/200\n",
            "9/9 [==============================] - 0s 6ms/step - loss: 1.6283 - mae: 0.9121 - val_loss: 12.3829 - val_mae: 2.4990\n",
            "Epoch 145/200\n",
            "9/9 [==============================] - 0s 6ms/step - loss: 1.6618 - mae: 0.9613 - val_loss: 12.8285 - val_mae: 2.5195\n",
            "Epoch 146/200\n",
            "9/9 [==============================] - 0s 6ms/step - loss: 1.4359 - mae: 0.8758 - val_loss: 13.1948 - val_mae: 2.5914\n",
            "Epoch 147/200\n",
            "9/9 [==============================] - 0s 6ms/step - loss: 1.7275 - mae: 0.9470 - val_loss: 12.6361 - val_mae: 2.5283\n",
            "Epoch 148/200\n",
            "9/9 [==============================] - 0s 6ms/step - loss: 1.5285 - mae: 0.8925 - val_loss: 12.5628 - val_mae: 2.4905\n",
            "Epoch 149/200\n",
            "9/9 [==============================] - 0s 6ms/step - loss: 1.3801 - mae: 0.8359 - val_loss: 12.3876 - val_mae: 2.5306\n",
            "Epoch 150/200\n",
            "9/9 [==============================] - 0s 6ms/step - loss: 1.3867 - mae: 0.8606 - val_loss: 12.6639 - val_mae: 2.4957\n",
            "Epoch 151/200\n",
            "9/9 [==============================] - 0s 6ms/step - loss: 1.4083 - mae: 0.8336 - val_loss: 12.4886 - val_mae: 2.5412\n",
            "Epoch 152/200\n",
            "9/9 [==============================] - 0s 8ms/step - loss: 1.2149 - mae: 0.7927 - val_loss: 12.6012 - val_mae: 2.5249\n",
            "Epoch 153/200\n",
            "9/9 [==============================] - 0s 6ms/step - loss: 1.3223 - mae: 0.8284 - val_loss: 12.6679 - val_mae: 2.4926\n",
            "Epoch 154/200\n",
            "9/9 [==============================] - 0s 7ms/step - loss: 1.3263 - mae: 0.8126 - val_loss: 12.4095 - val_mae: 2.5269\n",
            "Epoch 155/200\n",
            "9/9 [==============================] - 0s 7ms/step - loss: 1.4369 - mae: 0.7920 - val_loss: 12.5568 - val_mae: 2.5130\n",
            "Epoch 156/200\n",
            "9/9 [==============================] - 0s 7ms/step - loss: 1.2690 - mae: 0.7949 - val_loss: 12.4326 - val_mae: 2.5233\n",
            "Epoch 157/200\n",
            "9/9 [==============================] - 0s 7ms/step - loss: 1.1517 - mae: 0.7691 - val_loss: 13.0163 - val_mae: 2.5532\n",
            "Epoch 158/200\n",
            "9/9 [==============================] - 0s 7ms/step - loss: 1.2059 - mae: 0.8274 - val_loss: 12.7848 - val_mae: 2.5485\n",
            "Epoch 159/200\n",
            "9/9 [==============================] - 0s 7ms/step - loss: 1.2725 - mae: 0.8162 - val_loss: 12.7318 - val_mae: 2.5330\n",
            "Epoch 160/200\n",
            "9/9 [==============================] - 0s 7ms/step - loss: 1.3460 - mae: 0.7986 - val_loss: 12.5392 - val_mae: 2.5045\n",
            "Epoch 161/200\n",
            "9/9 [==============================] - 0s 7ms/step - loss: 1.1589 - mae: 0.7627 - val_loss: 12.9500 - val_mae: 2.5803\n",
            "Epoch 162/200\n",
            "9/9 [==============================] - 0s 7ms/step - loss: 1.1619 - mae: 0.7537 - val_loss: 12.6274 - val_mae: 2.5424\n",
            "Epoch 163/200\n",
            "9/9 [==============================] - 0s 6ms/step - loss: 1.1391 - mae: 0.7641 - val_loss: 12.9152 - val_mae: 2.5525\n",
            "Epoch 164/200\n",
            "9/9 [==============================] - 0s 8ms/step - loss: 1.1087 - mae: 0.7527 - val_loss: 12.5353 - val_mae: 2.5250\n",
            "Epoch 165/200\n",
            "9/9 [==============================] - 0s 6ms/step - loss: 1.3723 - mae: 0.7618 - val_loss: 12.6823 - val_mae: 2.5144\n",
            "Epoch 166/200\n",
            "9/9 [==============================] - 0s 6ms/step - loss: 1.1167 - mae: 0.7538 - val_loss: 12.6633 - val_mae: 2.5425\n",
            "Epoch 167/200\n",
            "9/9 [==============================] - 0s 7ms/step - loss: 1.1253 - mae: 0.7437 - val_loss: 12.6176 - val_mae: 2.5327\n",
            "Epoch 168/200\n",
            "9/9 [==============================] - 0s 7ms/step - loss: 1.2126 - mae: 0.7546 - val_loss: 12.5586 - val_mae: 2.5147\n",
            "Epoch 169/200\n",
            "9/9 [==============================] - 0s 6ms/step - loss: 1.1191 - mae: 0.7236 - val_loss: 12.4542 - val_mae: 2.5101\n",
            "Epoch 170/200\n",
            "9/9 [==============================] - 0s 6ms/step - loss: 1.1959 - mae: 0.7756 - val_loss: 12.6936 - val_mae: 2.5297\n",
            "Epoch 171/200\n",
            "9/9 [==============================] - 0s 6ms/step - loss: 1.3008 - mae: 0.7609 - val_loss: 12.7356 - val_mae: 2.5181\n",
            "Epoch 172/200\n",
            "9/9 [==============================] - 0s 6ms/step - loss: 1.1681 - mae: 0.7884 - val_loss: 12.5397 - val_mae: 2.5108\n",
            "Epoch 173/200\n",
            "9/9 [==============================] - 0s 6ms/step - loss: 1.0225 - mae: 0.7188 - val_loss: 13.4725 - val_mae: 2.6214\n",
            "Epoch 174/200\n",
            "9/9 [==============================] - 0s 6ms/step - loss: 1.2519 - mae: 0.8118 - val_loss: 12.5970 - val_mae: 2.5010\n",
            "Epoch 175/200\n",
            "9/9 [==============================] - 0s 6ms/step - loss: 1.4313 - mae: 0.8809 - val_loss: 12.8007 - val_mae: 2.5104\n",
            "Epoch 176/200\n",
            "9/9 [==============================] - 0s 6ms/step - loss: 1.4868 - mae: 0.8858 - val_loss: 12.9778 - val_mae: 2.6013\n",
            "Epoch 177/200\n",
            "9/9 [==============================] - 0s 7ms/step - loss: 1.3969 - mae: 0.8861 - val_loss: 12.8743 - val_mae: 2.5979\n",
            "Epoch 178/200\n",
            "9/9 [==============================] - 0s 7ms/step - loss: 1.1928 - mae: 0.8035 - val_loss: 12.6768 - val_mae: 2.5259\n",
            "Epoch 179/200\n",
            "9/9 [==============================] - 0s 7ms/step - loss: 1.3511 - mae: 0.8038 - val_loss: 12.7840 - val_mae: 2.5518\n",
            "Epoch 180/200\n",
            "9/9 [==============================] - 0s 7ms/step - loss: 1.4023 - mae: 0.7947 - val_loss: 13.4001 - val_mae: 2.6347\n",
            "Epoch 181/200\n",
            "9/9 [==============================] - 0s 7ms/step - loss: 1.0855 - mae: 0.7745 - val_loss: 12.7318 - val_mae: 2.5416\n",
            "Epoch 182/200\n",
            "9/9 [==============================] - 0s 7ms/step - loss: 0.9903 - mae: 0.7158 - val_loss: 12.6687 - val_mae: 2.5288\n",
            "Epoch 183/200\n",
            "9/9 [==============================] - 0s 8ms/step - loss: 1.0931 - mae: 0.7538 - val_loss: 13.0794 - val_mae: 2.5794\n",
            "Epoch 184/200\n",
            "9/9 [==============================] - 0s 7ms/step - loss: 1.0564 - mae: 0.6916 - val_loss: 12.7839 - val_mae: 2.5417\n",
            "Epoch 185/200\n",
            "9/9 [==============================] - 0s 7ms/step - loss: 0.9801 - mae: 0.6901 - val_loss: 12.8779 - val_mae: 2.5492\n",
            "Epoch 186/200\n",
            "9/9 [==============================] - 0s 7ms/step - loss: 0.9193 - mae: 0.6614 - val_loss: 13.0938 - val_mae: 2.5440\n",
            "Epoch 187/200\n",
            "9/9 [==============================] - 0s 6ms/step - loss: 0.9335 - mae: 0.6897 - val_loss: 13.0103 - val_mae: 2.5561\n",
            "Epoch 188/200\n",
            "9/9 [==============================] - 0s 6ms/step - loss: 0.9735 - mae: 0.6592 - val_loss: 12.7428 - val_mae: 2.5313\n",
            "Epoch 189/200\n",
            "9/9 [==============================] - 0s 7ms/step - loss: 0.8555 - mae: 0.6299 - val_loss: 12.8965 - val_mae: 2.5400\n",
            "Epoch 190/200\n",
            "9/9 [==============================] - 0s 7ms/step - loss: 0.8920 - mae: 0.6853 - val_loss: 13.0025 - val_mae: 2.5731\n",
            "Epoch 191/200\n",
            "9/9 [==============================] - 0s 6ms/step - loss: 1.1186 - mae: 0.7548 - val_loss: 12.7913 - val_mae: 2.5528\n",
            "Epoch 192/200\n",
            "9/9 [==============================] - 0s 7ms/step - loss: 0.9925 - mae: 0.7569 - val_loss: 13.6236 - val_mae: 2.5909\n",
            "Epoch 193/200\n",
            "9/9 [==============================] - 0s 7ms/step - loss: 0.9218 - mae: 0.6875 - val_loss: 13.2437 - val_mae: 2.5824\n",
            "Epoch 194/200\n",
            "9/9 [==============================] - 0s 7ms/step - loss: 0.9779 - mae: 0.7086 - val_loss: 13.2632 - val_mae: 2.5644\n",
            "Epoch 195/200\n",
            "9/9 [==============================] - 0s 6ms/step - loss: 1.0826 - mae: 0.7388 - val_loss: 13.0226 - val_mae: 2.5501\n",
            "Epoch 196/200\n",
            "9/9 [==============================] - 0s 6ms/step - loss: 1.1191 - mae: 0.7615 - val_loss: 13.0166 - val_mae: 2.5685\n",
            "Epoch 197/200\n",
            "9/9 [==============================] - 0s 6ms/step - loss: 1.4949 - mae: 0.9067 - val_loss: 13.3335 - val_mae: 2.6037\n",
            "Epoch 198/200\n",
            "9/9 [==============================] - 0s 7ms/step - loss: 1.0516 - mae: 0.7382 - val_loss: 13.0058 - val_mae: 2.5529\n",
            "Epoch 199/200\n",
            "9/9 [==============================] - 0s 6ms/step - loss: 0.9078 - mae: 0.6525 - val_loss: 12.9004 - val_mae: 2.5590\n",
            "Epoch 200/200\n",
            "9/9 [==============================] - 0s 6ms/step - loss: 0.7711 - mae: 0.5973 - val_loss: 12.9488 - val_mae: 2.5566\n"
          ],
          "name": "stdout"
        },
        {
          "output_type": "execute_result",
          "data": {
            "text/plain": [
              "<tensorflow.python.keras.callbacks.History at 0x7f2ec4141e48>"
            ]
          },
          "metadata": {
            "tags": []
          },
          "execution_count": 11
        }
      ]
    },
    {
      "cell_type": "markdown",
      "metadata": {
        "id": "x6H_Vkgouu_J",
        "colab_type": "text"
      },
      "source": [
        "## Challenge\n",
        "\n",
        "You will be expected to use Weights & Biases to try to tune your model during your module assignment today. "
      ]
    },
    {
      "cell_type": "markdown",
      "metadata": {
        "id": "p7dKbpX8uu_J",
        "colab_type": "text"
      },
      "source": [
        "# Hyperparameters with RandomSearchCV (Learn)"
      ]
    },
    {
      "cell_type": "markdown",
      "metadata": {
        "id": "iTM82w_nuu_K",
        "colab_type": "text"
      },
      "source": [
        "## Overview\n",
        "\n",
        "Basically `GridSearchCV` takes forever. You'll want to adopt a slightly more sophiscated strategy.\n",
        "\n",
        "Let's also take a look at an alternative with Keras-Tuner."
      ]
    },
    {
      "cell_type": "code",
      "metadata": {
        "id": "LKzrKCzzuu_K",
        "colab_type": "code",
        "colab": {}
      },
      "source": [
        "!pip install keras-tuner"
      ],
      "execution_count": 0,
      "outputs": []
    },
    {
      "cell_type": "markdown",
      "metadata": {
        "id": "h6go4MLZuu_N",
        "colab_type": "text"
      },
      "source": [
        "## Follow Along"
      ]
    },
    {
      "cell_type": "code",
      "metadata": {
        "id": "fCbp7zLXuu_N",
        "colab_type": "code",
        "colab": {}
      },
      "source": [
        "from tensorflow import keras\n",
        "from tensorflow.keras import layers\n",
        "from kerastuner.tuners import RandomSearch\n",
        "\n",
        "\"\"\"\n",
        "This model Tunes:\n",
        "- Number of Neurons in the Hidden Layer\n",
        "- Learning Rate in Adam\n",
        "\n",
        "\"\"\"\n",
        "\n",
        "def build_model(hp):\n",
        "    model = keras.Sequential()\n",
        "    model.add(layers.Dense(units=hp.Int('units',\n",
        "                                        min_value=32,\n",
        "                                        max_value=512,\n",
        "                                        step=32),\n",
        "                           activation='relu'))\n",
        "    model.add(layers.Dense(10, activation='softmax'))\n",
        "    model.compile(\n",
        "        optimizer=keras.optimizers.Adam(\n",
        "            hp.Choice('learning_rate',\n",
        "                      values=[1e-2, 1e-3, 1e-4])),\n",
        "        loss='sparse_categorical_crossentropy',\n",
        "        metrics=['accuracy'])\n",
        "    \n",
        "    return model"
      ],
      "execution_count": 0,
      "outputs": []
    },
    {
      "cell_type": "code",
      "metadata": {
        "id": "eHwyUHcPuu_Q",
        "colab_type": "code",
        "colab": {}
      },
      "source": [
        "tuner = RandomSearch(\n",
        "    build_model,\n",
        "    objective='val_accuracy',\n",
        "    max_trials=5,\n",
        "    executions_per_trial=3,\n",
        "    directory='./keras-tuner-trial',\n",
        "    project_name='helloworld')"
      ],
      "execution_count": 0,
      "outputs": []
    },
    {
      "cell_type": "code",
      "metadata": {
        "id": "j0GbUHZ2uu_T",
        "colab_type": "code",
        "colab": {}
      },
      "source": [
        "tuner.search_space_summary()"
      ],
      "execution_count": 0,
      "outputs": []
    },
    {
      "cell_type": "code",
      "metadata": {
        "id": "NPO4IN0tuu_X",
        "colab_type": "code",
        "colab": {}
      },
      "source": [
        "tuner.search(x, y,\n",
        "             epochs=5,\n",
        "             validation_data=(val_x, val_y))"
      ],
      "execution_count": 0,
      "outputs": []
    },
    {
      "cell_type": "code",
      "metadata": {
        "id": "Fe5PE45Vuu_a",
        "colab_type": "code",
        "colab": {}
      },
      "source": [
        "tuner.results_summary()"
      ],
      "execution_count": 0,
      "outputs": []
    },
    {
      "cell_type": "markdown",
      "metadata": {
        "id": "F0n9l6e9uu_c",
        "colab_type": "text"
      },
      "source": [
        "## Challenge\n",
        "\n",
        "Try to apply RandomSearchCV to your module project today. "
      ]
    },
    {
      "cell_type": "markdown",
      "metadata": {
        "id": "iSNgfrh0uu_d",
        "colab_type": "text"
      },
      "source": [
        "# Review\n",
        "* <a href=\"#p1\">Part 1</a>: Describe the major hyperparemeters to tune\n",
        "    - Activation Functions\n",
        "    - Optimizer\n",
        "    - Number of Layers\n",
        "    - Number of Neurons\n",
        "    - Batch Size\n",
        "    - Dropout Regulaization\n",
        "    - Learning Rate\n",
        "    - Number of Epochs\n",
        "    - and many more\n",
        "* <a href=\"#p2\">Part 2</a>: Implement an experiment tracking framework\n",
        "    - Weights & Biases\n",
        "    - Comet.ml\n",
        "    - By Hand / GridSearch\n",
        "* <a href=\"#p3\">Part 3</a>: Search the hyperparameter space using RandomSearch\n",
        "    - Sklearn still useful (haha)\n",
        "    - Integration with Wieghts & Biases\n",
        "* <a href=\"#p4\">Part 4</a>: Discuss emerging hyperparameter tuning strategies\n",
        "    - Bayesian Optimization\n",
        "    - Hyperopt\n",
        "    - Genetic Evolution"
      ]
    },
    {
      "cell_type": "markdown",
      "metadata": {
        "id": "vg2FJP3kuu_d",
        "colab_type": "text"
      },
      "source": [
        "# Sources"
      ]
    },
    {
      "cell_type": "markdown",
      "metadata": {
        "id": "Wo0Fjf7Quu_e",
        "colab_type": "text"
      },
      "source": [
        "## Additional Reading\n",
        "- https://machinelearningmastery.com/grid-search-hyperparameters-deep-learning-models-python-keras/\n",
        "- https://blog.floydhub.com/guide-to-hyperparameters-search-for-deep-learning-models/\n",
        "- https://machinelearningmastery.com/dropout-regularization-deep-learning-models-keras/\n",
        "- https://machinelearningmastery.com/introduction-to-weight-constraints-to-reduce-generalization-error-in-deep-learning/\n",
        "- https://machinelearningmastery.com/how-to-configure-the-number-of-layers-and-nodes-in-a-neural-network/"
      ]
    }
  ]
}